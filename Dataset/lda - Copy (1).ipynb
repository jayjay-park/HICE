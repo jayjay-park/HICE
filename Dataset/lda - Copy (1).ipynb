{
 "cells": [
  {
   "cell_type": "markdown",
   "metadata": {},
   "source": [
    "### Reference\n",
    "https://github.com/Kaustubh-Tambe/BBC-News_Topic-Modelling/blob/main/Notebook/BBC_News_Topic_Modelling_Project.ipynb"
   ]
  },
  {
   "cell_type": "markdown",
   "metadata": {},
   "source": [
    "# Install Libraries"
   ]
  },
  {
   "cell_type": "code",
   "execution_count": 1,
   "metadata": {},
   "outputs": [
    {
     "name": "stdout",
     "output_type": "stream",
     "text": [
      "Defaulting to user installation because normal site-packages is not writeable\n",
      "Requirement already satisfied: gensim in /storage/home/hcocice1/jpark3141/.local/lib/python3.9/site-packages (4.2.0)\n",
      "Requirement already satisfied: scipy>=0.18.1 in /storage/home/hcocice1/jpark3141/.local/lib/python3.9/site-packages (from gensim) (1.9.3)\n",
      "Requirement already satisfied: smart-open>=1.8.1 in /storage/home/hcocice1/jpark3141/.local/lib/python3.9/site-packages (from gensim) (5.2.1)\n",
      "Requirement already satisfied: numpy>=1.17.0 in /storage/pace-apps/manual/packages/pytorch/1.11.0/lib/python3.9/site-packages (from gensim) (1.21.5)\n"
     ]
    }
   ],
   "source": [
    "# pip install gensim\n",
    "# conda install -c anaconda gensim\n",
    "!pip3 install gensim"
   ]
  },
  {
   "cell_type": "code",
   "execution_count": 2,
   "metadata": {},
   "outputs": [
    {
     "name": "stdout",
     "output_type": "stream",
     "text": [
      "Defaulting to user installation because normal site-packages is not writeable\n",
      "Requirement already satisfied: spacy in /storage/home/hcocice1/jpark3141/.local/lib/python3.9/site-packages (3.4.3)\n",
      "Requirement already satisfied: wasabi<1.1.0,>=0.9.1 in /storage/home/hcocice1/jpark3141/.local/lib/python3.9/site-packages (from spacy) (0.10.1)\n",
      "Requirement already satisfied: langcodes<4.0.0,>=3.2.0 in /storage/home/hcocice1/jpark3141/.local/lib/python3.9/site-packages (from spacy) (3.3.0)\n",
      "Requirement already satisfied: typer<0.8.0,>=0.3.0 in /storage/home/hcocice1/jpark3141/.local/lib/python3.9/site-packages (from spacy) (0.7.0)\n",
      "Requirement already satisfied: pydantic!=1.8,!=1.8.1,<1.11.0,>=1.7.4 in /storage/home/hcocice1/jpark3141/.local/lib/python3.9/site-packages (from spacy) (1.10.2)\n",
      "Requirement already satisfied: thinc<8.2.0,>=8.1.0 in /storage/home/hcocice1/jpark3141/.local/lib/python3.9/site-packages (from spacy) (8.1.5)\n",
      "Requirement already satisfied: jinja2 in /storage/pace-apps/manual/packages/pytorch/1.11.0/lib/python3.9/site-packages (from spacy) (3.0.3)\n",
      "Requirement already satisfied: pathy>=0.3.5 in /storage/home/hcocice1/jpark3141/.local/lib/python3.9/site-packages (from spacy) (0.6.2)\n",
      "Requirement already satisfied: numpy>=1.15.0 in /storage/pace-apps/manual/packages/pytorch/1.11.0/lib/python3.9/site-packages (from spacy) (1.21.5)\n",
      "Requirement already satisfied: spacy-legacy<3.1.0,>=3.0.10 in /storage/home/hcocice1/jpark3141/.local/lib/python3.9/site-packages (from spacy) (3.0.10)\n",
      "Requirement already satisfied: preshed<3.1.0,>=3.0.2 in /storage/home/hcocice1/jpark3141/.local/lib/python3.9/site-packages (from spacy) (3.0.8)\n",
      "Requirement already satisfied: catalogue<2.1.0,>=2.0.6 in /storage/home/hcocice1/jpark3141/.local/lib/python3.9/site-packages (from spacy) (2.0.8)\n",
      "Requirement already satisfied: murmurhash<1.1.0,>=0.28.0 in /storage/home/hcocice1/jpark3141/.local/lib/python3.9/site-packages (from spacy) (1.0.9)\n",
      "Requirement already satisfied: tqdm<5.0.0,>=4.38.0 in /storage/home/hcocice1/jpark3141/.local/lib/python3.9/site-packages (from spacy) (4.64.1)\n",
      "Requirement already satisfied: cymem<2.1.0,>=2.0.2 in /storage/home/hcocice1/jpark3141/.local/lib/python3.9/site-packages (from spacy) (2.0.7)\n",
      "Requirement already satisfied: requests<3.0.0,>=2.13.0 in /storage/pace-apps/manual/packages/pytorch/1.11.0/lib/python3.9/site-packages (from spacy) (2.27.1)\n",
      "Requirement already satisfied: setuptools in /storage/pace-apps/manual/packages/pytorch/1.11.0/lib/python3.9/site-packages (from spacy) (61.2.0)\n",
      "Requirement already satisfied: srsly<3.0.0,>=2.4.3 in /storage/home/hcocice1/jpark3141/.local/lib/python3.9/site-packages (from spacy) (2.4.5)\n",
      "Requirement already satisfied: spacy-loggers<2.0.0,>=1.0.0 in /storage/home/hcocice1/jpark3141/.local/lib/python3.9/site-packages (from spacy) (1.0.3)\n",
      "Requirement already satisfied: packaging>=20.0 in /storage/pace-apps/manual/packages/pytorch/1.11.0/lib/python3.9/site-packages (from spacy) (21.3)\n",
      "Requirement already satisfied: pyparsing!=3.0.5,>=2.0.2 in /storage/pace-apps/manual/packages/pytorch/1.11.0/lib/python3.9/site-packages (from packaging>=20.0->spacy) (3.0.4)\n",
      "Requirement already satisfied: smart-open<6.0.0,>=5.2.1 in /storage/home/hcocice1/jpark3141/.local/lib/python3.9/site-packages (from pathy>=0.3.5->spacy) (5.2.1)\n",
      "Requirement already satisfied: typing-extensions>=4.1.0 in /storage/pace-apps/manual/packages/pytorch/1.11.0/lib/python3.9/site-packages (from pydantic!=1.8,!=1.8.1,<1.11.0,>=1.7.4->spacy) (4.1.1)\n",
      "Requirement already satisfied: charset-normalizer~=2.0.0 in /storage/pace-apps/manual/packages/pytorch/1.11.0/lib/python3.9/site-packages (from requests<3.0.0,>=2.13.0->spacy) (2.0.4)\n",
      "Requirement already satisfied: idna<4,>=2.5 in /storage/pace-apps/manual/packages/pytorch/1.11.0/lib/python3.9/site-packages (from requests<3.0.0,>=2.13.0->spacy) (3.3)\n",
      "Requirement already satisfied: urllib3<1.27,>=1.21.1 in /storage/pace-apps/manual/packages/pytorch/1.11.0/lib/python3.9/site-packages (from requests<3.0.0,>=2.13.0->spacy) (1.26.8)\n",
      "Requirement already satisfied: certifi>=2017.4.17 in /storage/pace-apps/manual/packages/pytorch/1.11.0/lib/python3.9/site-packages (from requests<3.0.0,>=2.13.0->spacy) (2021.10.8)\n",
      "Requirement already satisfied: blis<0.8.0,>=0.7.8 in /storage/home/hcocice1/jpark3141/.local/lib/python3.9/site-packages (from thinc<8.2.0,>=8.1.0->spacy) (0.7.9)\n",
      "Requirement already satisfied: confection<1.0.0,>=0.0.1 in /storage/home/hcocice1/jpark3141/.local/lib/python3.9/site-packages (from thinc<8.2.0,>=8.1.0->spacy) (0.0.3)\n",
      "Requirement already satisfied: click<9.0.0,>=7.1.1 in /storage/home/hcocice1/jpark3141/.local/lib/python3.9/site-packages (from typer<0.8.0,>=0.3.0->spacy) (8.1.3)\n",
      "Requirement already satisfied: MarkupSafe>=2.0 in /storage/pace-apps/manual/packages/pytorch/1.11.0/lib/python3.9/site-packages (from jinja2->spacy) (2.0.1)\n",
      "Note: you may need to restart the kernel to use updated packages.\n"
     ]
    }
   ],
   "source": [
    "pip install spacy"
   ]
  },
  {
   "cell_type": "code",
   "execution_count": 3,
   "metadata": {},
   "outputs": [
    {
     "name": "stdout",
     "output_type": "stream",
     "text": [
      "Defaulting to user installation because normal site-packages is not writeable\n",
      "Requirement already satisfied: pyLDAvis in /storage/home/hcocice1/jpark3141/.local/lib/python3.9/site-packages (3.3.1)\n",
      "Requirement already satisfied: scipy in /storage/home/hcocice1/jpark3141/.local/lib/python3.9/site-packages (from pyLDAvis) (1.9.3)\n",
      "Requirement already satisfied: numexpr in /storage/home/hcocice1/jpark3141/.local/lib/python3.9/site-packages (from pyLDAvis) (2.8.4)\n",
      "Requirement already satisfied: future in /storage/home/hcocice1/jpark3141/.local/lib/python3.9/site-packages (from pyLDAvis) (0.18.2)\n",
      "Requirement already satisfied: pandas>=1.2.0 in /storage/home/hcocice1/jpark3141/.local/lib/python3.9/site-packages (from pyLDAvis) (1.5.1)\n",
      "Requirement already satisfied: numpy>=1.20.0 in /storage/pace-apps/manual/packages/pytorch/1.11.0/lib/python3.9/site-packages (from pyLDAvis) (1.21.5)\n",
      "Requirement already satisfied: joblib in /storage/home/hcocice1/jpark3141/.local/lib/python3.9/site-packages (from pyLDAvis) (1.2.0)\n",
      "Requirement already satisfied: setuptools in /storage/pace-apps/manual/packages/pytorch/1.11.0/lib/python3.9/site-packages (from pyLDAvis) (61.2.0)\n",
      "Requirement already satisfied: sklearn in /storage/home/hcocice1/jpark3141/.local/lib/python3.9/site-packages (from pyLDAvis) (0.0.post1)\n",
      "Requirement already satisfied: funcy in /storage/home/hcocice1/jpark3141/.local/lib/python3.9/site-packages (from pyLDAvis) (1.17)\n",
      "Requirement already satisfied: gensim in /storage/home/hcocice1/jpark3141/.local/lib/python3.9/site-packages (from pyLDAvis) (4.2.0)\n",
      "Requirement already satisfied: jinja2 in /storage/pace-apps/manual/packages/pytorch/1.11.0/lib/python3.9/site-packages (from pyLDAvis) (3.0.3)\n",
      "Requirement already satisfied: scikit-learn in /storage/home/hcocice1/jpark3141/.local/lib/python3.9/site-packages (from pyLDAvis) (1.1.3)\n",
      "Requirement already satisfied: python-dateutil>=2.8.1 in /storage/pace-apps/manual/packages/pytorch/1.11.0/lib/python3.9/site-packages (from pandas>=1.2.0->pyLDAvis) (2.8.2)\n",
      "Requirement already satisfied: pytz>=2020.1 in /storage/home/hcocice1/jpark3141/.local/lib/python3.9/site-packages (from pandas>=1.2.0->pyLDAvis) (2022.6)\n",
      "Requirement already satisfied: six>=1.5 in /storage/pace-apps/manual/packages/pytorch/1.11.0/lib/python3.9/site-packages (from python-dateutil>=2.8.1->pandas>=1.2.0->pyLDAvis) (1.16.0)\n",
      "Requirement already satisfied: smart-open>=1.8.1 in /storage/home/hcocice1/jpark3141/.local/lib/python3.9/site-packages (from gensim->pyLDAvis) (5.2.1)\n",
      "Requirement already satisfied: MarkupSafe>=2.0 in /storage/pace-apps/manual/packages/pytorch/1.11.0/lib/python3.9/site-packages (from jinja2->pyLDAvis) (2.0.1)\n",
      "Requirement already satisfied: threadpoolctl>=2.0.0 in /storage/home/hcocice1/jpark3141/.local/lib/python3.9/site-packages (from scikit-learn->pyLDAvis) (3.1.0)\n",
      "Note: you may need to restart the kernel to use updated packages.\n"
     ]
    }
   ],
   "source": [
    "pip install pyLDAvis"
   ]
  },
  {
   "cell_type": "code",
   "execution_count": 4,
   "metadata": {},
   "outputs": [
    {
     "name": "stdout",
     "output_type": "stream",
     "text": [
      "Defaulting to user installation because normal site-packages is not writeable\n",
      "Requirement already satisfied: wheel in /storage/pace-apps/manual/packages/pytorch/1.11.0/lib/python3.9/site-packages (0.37.1)\n",
      "Defaulting to user installation because normal site-packages is not writeable\n",
      "Requirement already satisfied: pandas in /storage/home/hcocice1/jpark3141/.local/lib/python3.9/site-packages (1.5.1)\n",
      "Requirement already satisfied: pytz>=2020.1 in /storage/home/hcocice1/jpark3141/.local/lib/python3.9/site-packages (from pandas) (2022.6)\n",
      "Requirement already satisfied: numpy>=1.20.3 in /storage/pace-apps/manual/packages/pytorch/1.11.0/lib/python3.9/site-packages (from pandas) (1.21.5)\n",
      "Requirement already satisfied: python-dateutil>=2.8.1 in /storage/pace-apps/manual/packages/pytorch/1.11.0/lib/python3.9/site-packages (from pandas) (2.8.2)\n",
      "Requirement already satisfied: six>=1.5 in /storage/pace-apps/manual/packages/pytorch/1.11.0/lib/python3.9/site-packages (from python-dateutil>=2.8.1->pandas) (1.16.0)\n"
     ]
    }
   ],
   "source": [
    "!pip3 install wheel\n",
    "!pip3 install pandas"
   ]
  },
  {
   "cell_type": "code",
   "execution_count": 5,
   "metadata": {},
   "outputs": [
    {
     "name": "stdout",
     "output_type": "stream",
     "text": [
      "Defaulting to user installation because normal site-packages is not writeable\n",
      "Requirement already satisfied: nltk in /storage/home/hcocice1/jpark3141/.local/lib/python3.9/site-packages (3.7)\n",
      "Requirement already satisfied: joblib in /storage/home/hcocice1/jpark3141/.local/lib/python3.9/site-packages (from nltk) (1.2.0)\n",
      "Requirement already satisfied: tqdm in /storage/home/hcocice1/jpark3141/.local/lib/python3.9/site-packages (from nltk) (4.64.1)\n",
      "Requirement already satisfied: regex>=2021.8.3 in /storage/home/hcocice1/jpark3141/.local/lib/python3.9/site-packages (from nltk) (2022.10.31)\n",
      "Requirement already satisfied: click in /storage/home/hcocice1/jpark3141/.local/lib/python3.9/site-packages (from nltk) (8.1.3)\n",
      "Note: you may need to restart the kernel to use updated packages.\n"
     ]
    }
   ],
   "source": [
    "pip install nltk"
   ]
  },
  {
   "cell_type": "code",
   "execution_count": 6,
   "metadata": {},
   "outputs": [
    {
     "name": "stdout",
     "output_type": "stream",
     "text": [
      "Defaulting to user installation because normal site-packages is not writeable\n",
      "Requirement already satisfied: matplotlib in /storage/home/hcocice1/jpark3141/.local/lib/python3.9/site-packages (3.6.2)\n",
      "Requirement already satisfied: kiwisolver>=1.0.1 in /storage/home/hcocice1/jpark3141/.local/lib/python3.9/site-packages (from matplotlib) (1.4.4)\n",
      "Requirement already satisfied: pyparsing>=2.2.1 in /storage/pace-apps/manual/packages/pytorch/1.11.0/lib/python3.9/site-packages (from matplotlib) (3.0.4)\n",
      "Requirement already satisfied: python-dateutil>=2.7 in /storage/pace-apps/manual/packages/pytorch/1.11.0/lib/python3.9/site-packages (from matplotlib) (2.8.2)\n",
      "Requirement already satisfied: packaging>=20.0 in /storage/pace-apps/manual/packages/pytorch/1.11.0/lib/python3.9/site-packages (from matplotlib) (21.3)\n",
      "Requirement already satisfied: numpy>=1.19 in /storage/pace-apps/manual/packages/pytorch/1.11.0/lib/python3.9/site-packages (from matplotlib) (1.21.5)\n",
      "Requirement already satisfied: pillow>=6.2.0 in /storage/pace-apps/manual/packages/pytorch/1.11.0/lib/python3.9/site-packages (from matplotlib) (9.0.1)\n",
      "Requirement already satisfied: contourpy>=1.0.1 in /storage/home/hcocice1/jpark3141/.local/lib/python3.9/site-packages (from matplotlib) (1.0.6)\n",
      "Requirement already satisfied: cycler>=0.10 in /storage/home/hcocice1/jpark3141/.local/lib/python3.9/site-packages (from matplotlib) (0.11.0)\n",
      "Requirement already satisfied: fonttools>=4.22.0 in /storage/home/hcocice1/jpark3141/.local/lib/python3.9/site-packages (from matplotlib) (4.38.0)\n",
      "Requirement already satisfied: six>=1.5 in /storage/pace-apps/manual/packages/pytorch/1.11.0/lib/python3.9/site-packages (from python-dateutil>=2.7->matplotlib) (1.16.0)\n",
      "Note: you may need to restart the kernel to use updated packages.\n"
     ]
    }
   ],
   "source": [
    "pip install matplotlib"
   ]
  },
  {
   "cell_type": "code",
   "execution_count": 7,
   "metadata": {},
   "outputs": [
    {
     "name": "stderr",
     "output_type": "stream",
     "text": [
      "/storage/home/hcocice1/jpark3141/.local/lib/python3.9/site-packages/tqdm/auto.py:22: TqdmWarning: IProgress not found. Please update jupyter and ipywidgets. See https://ipywidgets.readthedocs.io/en/stable/user_install.html\n",
      "  from .autonotebook import tqdm as notebook_tqdm\n"
     ]
    }
   ],
   "source": [
    "import re\n",
    "import numpy as np\n",
    "import pandas as pd\n",
    "from pprint import pprint\n",
    "\n",
    "# Genism\n",
    "import gensim\n",
    "import gensim.corpora as corpora\n",
    "from gensim.utils import simple_preprocess\n",
    "from gensim.models import CoherenceModel\n",
    "\n",
    "# Spacy for Lemmatization\n",
    "import spacy\n",
    "\n",
    "# Plotting\n",
    "import pyLDAvis\n",
    "import pyLDAvis.gensim_models\n",
    "import matplotlib.pyplot as plt\n",
    "%matplotlib inline\n",
    "\n",
    "import warnings\n",
    "warnings.filterwarnings(\"ignore\", category=DeprecationWarning)"
   ]
  },
  {
   "cell_type": "markdown",
   "metadata": {},
   "source": [
    "# Downloading and preparing stopwords from NLTK & extended_stopwords.txt"
   ]
  },
  {
   "cell_type": "code",
   "execution_count": 8,
   "metadata": {},
   "outputs": [
    {
     "name": "stderr",
     "output_type": "stream",
     "text": [
      "[nltk_data] Downloading package stopwords to\n",
      "[nltk_data]     /storage/home/hcocice1/jpark3141/nltk_data...\n",
      "[nltk_data]   Package stopwords is already up-to-date!\n"
     ]
    },
    {
     "data": {
      "text/plain": [
       "True"
      ]
     },
     "execution_count": 8,
     "metadata": {},
     "output_type": "execute_result"
    }
   ],
   "source": [
    "import nltk\n",
    "nltk.download('stopwords')"
   ]
  },
  {
   "cell_type": "code",
   "execution_count": 9,
   "metadata": {},
   "outputs": [],
   "source": [
    "from nltk.corpus import stopwords\n",
    "stop_words = stopwords.words('english')\n",
    "\n",
    "# add more stopwords\n",
    "file = open(\"./extended_stopwords.txt\", \"r\")\n",
    "stop_words.extend([line.strip() for line in file.readlines()])\n",
    "file.close()"
   ]
  },
  {
   "cell_type": "markdown",
   "metadata": {},
   "source": [
    "# Converting it to DF"
   ]
  },
  {
   "cell_type": "code",
   "execution_count": 10,
   "metadata": {},
   "outputs": [
    {
     "name": "stdout",
     "output_type": "stream",
     "text": [
      "2016-01-posts.csv\r\n",
      "cuda-repo-rhel8-11-8-local-11.8.0_520.61.05-1.x86_64.rpm\r\n",
      "Cusim_Word2Vec.ipynb\r\n",
      "divide_submissions.ipynb\r\n",
      "extended_stopwords.txt\r\n",
      "lda - Copy.ipynb\r\n",
      "LDA_CUSIM.ipynb\r\n",
      "\u001b[0m\u001b[01;34mNVIDIA Nsight Compute\u001b[0m/\r\n",
      "requirements\r\n",
      "\u001b[01;34mres\u001b[0m/\r\n",
      "submissions.csv\r\n",
      "\u001b[01;34msubreddit_file\u001b[0m/\r\n",
      "subreddit_list.csv\r\n"
     ]
    }
   ],
   "source": [
    "%ls"
   ]
  },
  {
   "cell_type": "code",
   "execution_count": 77,
   "metadata": {},
   "outputs": [],
   "source": [
    "# importing the required modules\n",
    "import glob\n",
    "import pandas as pd\n",
    "  \n",
    "# specifying the path to csv files\n",
    "#path = \"subreddit_file\"\n",
    "  \n",
    "# csv files in the path\n",
    "#files = glob.glob(path + \"/*.csv\")\n",
    "  \n",
    "#df = pd.DataFrame()\n",
    "  \n",
    "# checking all the csv files in the \n",
    "# specified path\n",
    "#for filename in files:\n",
    "    \n",
    "    # reading content of csv file\n",
    "    # content.append(filename)\n",
    "#    df = pd.read_csv(filename, index_col=None)\n",
    "  \n",
    "data = pd.read_csv(\"./subreddit_file/subreddit_The_Donald.csv\")\n"
   ]
  },
  {
   "cell_type": "code",
   "execution_count": 78,
   "metadata": {},
   "outputs": [
    {
     "name": "stdout",
     "output_type": "stream",
     "text": [
      "<class 'pandas.core.frame.DataFrame'>\n",
      "RangeIndex: 4810 entries, 0 to 4809\n",
      "Data columns (total 12 columns):\n",
      " #   Column        Non-Null Count  Dtype \n",
      "---  ------        --------------  ----- \n",
      " 0   subreddit_id  4810 non-null   object\n",
      " 1   selftext      4810 non-null   object\n",
      " 2   author        4810 non-null   object\n",
      " 3   over_18       4810 non-null   bool  \n",
      " 4   ups           4810 non-null   int64 \n",
      " 5   created_utc   4810 non-null   int64 \n",
      " 6   score         4810 non-null   int64 \n",
      " 7   downs         4810 non-null   int64 \n",
      " 8   title         4810 non-null   object\n",
      " 9   num_comments  4810 non-null   int64 \n",
      " 10  subreddit     4810 non-null   object\n",
      " 11  quarantine    4810 non-null   bool  \n",
      "dtypes: bool(2), int64(5), object(5)\n",
      "memory usage: 385.3+ KB\n"
     ]
    }
   ],
   "source": [
    "data.info() #3002067 entries"
   ]
  },
  {
   "cell_type": "code",
   "execution_count": 79,
   "metadata": {},
   "outputs": [
    {
     "data": {
      "text/html": [
       "<div>\n",
       "<style scoped>\n",
       "    .dataframe tbody tr th:only-of-type {\n",
       "        vertical-align: middle;\n",
       "    }\n",
       "\n",
       "    .dataframe tbody tr th {\n",
       "        vertical-align: top;\n",
       "    }\n",
       "\n",
       "    .dataframe thead th {\n",
       "        text-align: right;\n",
       "    }\n",
       "</style>\n",
       "<table border=\"1\" class=\"dataframe\">\n",
       "  <thead>\n",
       "    <tr style=\"text-align: right;\">\n",
       "      <th></th>\n",
       "      <th>subreddit_id</th>\n",
       "      <th>selftext</th>\n",
       "      <th>author</th>\n",
       "      <th>over_18</th>\n",
       "      <th>ups</th>\n",
       "      <th>created_utc</th>\n",
       "      <th>score</th>\n",
       "      <th>downs</th>\n",
       "      <th>title</th>\n",
       "      <th>num_comments</th>\n",
       "      <th>subreddit</th>\n",
       "      <th>quarantine</th>\n",
       "    </tr>\n",
       "  </thead>\n",
       "  <tbody>\n",
       "    <tr>\n",
       "      <th>0</th>\n",
       "      <td>t5_38unr</td>\n",
       "      <td>[deleted]</td>\n",
       "      <td>[deleted]</td>\n",
       "      <td>False</td>\n",
       "      <td>1</td>\n",
       "      <td>1449838705</td>\n",
       "      <td>1</td>\n",
       "      <td>0</td>\n",
       "      <td>Livestream: Donald Trump Campaign Rally Event ...</td>\n",
       "      <td>0</td>\n",
       "      <td>The_Donald</td>\n",
       "      <td>False</td>\n",
       "    </tr>\n",
       "    <tr>\n",
       "      <th>1</th>\n",
       "      <td>t5_38unr</td>\n",
       "      <td>[deleted]</td>\n",
       "      <td>[deleted]</td>\n",
       "      <td>False</td>\n",
       "      <td>2</td>\n",
       "      <td>1451016217</td>\n",
       "      <td>2</td>\n",
       "      <td>0</td>\n",
       "      <td>Can anyone link me to Trump's first rally?</td>\n",
       "      <td>2</td>\n",
       "      <td>The_Donald</td>\n",
       "      <td>False</td>\n",
       "    </tr>\n",
       "    <tr>\n",
       "      <th>2</th>\n",
       "      <td>t5_38unr</td>\n",
       "      <td>[deleted]</td>\n",
       "      <td>[deleted]</td>\n",
       "      <td>False</td>\n",
       "      <td>14</td>\n",
       "      <td>1451840538</td>\n",
       "      <td>14</td>\n",
       "      <td>0</td>\n",
       "      <td>Would anyone be willing to chip in to get a sp...</td>\n",
       "      <td>12</td>\n",
       "      <td>The_Donald</td>\n",
       "      <td>False</td>\n",
       "    </tr>\n",
       "    <tr>\n",
       "      <th>3</th>\n",
       "      <td>t5_38unr</td>\n",
       "      <td>[deleted]</td>\n",
       "      <td>[deleted]</td>\n",
       "      <td>False</td>\n",
       "      <td>0</td>\n",
       "      <td>1452861365</td>\n",
       "      <td>0</td>\n",
       "      <td>0</td>\n",
       "      <td>Wow, I have never seen a cat behave like this....</td>\n",
       "      <td>0</td>\n",
       "      <td>The_Donald</td>\n",
       "      <td>False</td>\n",
       "    </tr>\n",
       "    <tr>\n",
       "      <th>4</th>\n",
       "      <td>t5_38unr</td>\n",
       "      <td>[deleted]</td>\n",
       "      <td>[deleted]</td>\n",
       "      <td>False</td>\n",
       "      <td>10</td>\n",
       "      <td>1452903094</td>\n",
       "      <td>10</td>\n",
       "      <td>0</td>\n",
       "      <td>Trump's List</td>\n",
       "      <td>5</td>\n",
       "      <td>The_Donald</td>\n",
       "      <td>False</td>\n",
       "    </tr>\n",
       "  </tbody>\n",
       "</table>\n",
       "</div>"
      ],
      "text/plain": [
       "  subreddit_id   selftext     author  over_18  ups  created_utc  score  downs  \\\n",
       "0     t5_38unr  [deleted]  [deleted]    False    1   1449838705      1      0   \n",
       "1     t5_38unr  [deleted]  [deleted]    False    2   1451016217      2      0   \n",
       "2     t5_38unr  [deleted]  [deleted]    False   14   1451840538     14      0   \n",
       "3     t5_38unr  [deleted]  [deleted]    False    0   1452861365      0      0   \n",
       "4     t5_38unr  [deleted]  [deleted]    False   10   1452903094     10      0   \n",
       "\n",
       "                                               title  num_comments  \\\n",
       "0  Livestream: Donald Trump Campaign Rally Event ...             0   \n",
       "1         Can anyone link me to Trump's first rally?             2   \n",
       "2  Would anyone be willing to chip in to get a sp...            12   \n",
       "3  Wow, I have never seen a cat behave like this....             0   \n",
       "4                                       Trump's List             5   \n",
       "\n",
       "    subreddit  quarantine  \n",
       "0  The_Donald       False  \n",
       "1  The_Donald       False  \n",
       "2  The_Donald       False  \n",
       "3  The_Donald       False  \n",
       "4  The_Donald       False  "
      ]
     },
     "execution_count": 79,
     "metadata": {},
     "output_type": "execute_result"
    }
   ],
   "source": [
    "data.head()"
   ]
  },
  {
   "cell_type": "markdown",
   "metadata": {},
   "source": [
    "# Preprocessing"
   ]
  },
  {
   "cell_type": "code",
   "execution_count": 80,
   "metadata": {},
   "outputs": [
    {
     "name": "stdout",
     "output_type": "stream",
     "text": [
      "subreddit_id    0\n",
      "selftext        0\n",
      "author          0\n",
      "over_18         0\n",
      "ups             0\n",
      "created_utc     0\n",
      "score           0\n",
      "downs           0\n",
      "title           0\n",
      "num_comments    0\n",
      "subreddit       0\n",
      "quarantine      0\n",
      "dtype: int64\n"
     ]
    }
   ],
   "source": [
    "print(data.isnull().sum()) # selftext has 1689024 Nan"
   ]
  },
  {
   "cell_type": "code",
   "execution_count": 81,
   "metadata": {},
   "outputs": [
    {
     "name": "stdout",
     "output_type": "stream",
     "text": [
      "<class 'pandas.core.frame.DataFrame'>\n",
      "Int64Index: 361 entries, 7 to 4773\n",
      "Data columns (total 12 columns):\n",
      " #   Column        Non-Null Count  Dtype \n",
      "---  ------        --------------  ----- \n",
      " 0   subreddit_id  361 non-null    object\n",
      " 1   selftext      361 non-null    object\n",
      " 2   author        361 non-null    object\n",
      " 3   over_18       361 non-null    bool  \n",
      " 4   ups           361 non-null    int64 \n",
      " 5   created_utc   361 non-null    int64 \n",
      " 6   score         361 non-null    int64 \n",
      " 7   downs         361 non-null    int64 \n",
      " 8   title         361 non-null    object\n",
      " 9   num_comments  361 non-null    int64 \n",
      " 10  subreddit     361 non-null    object\n",
      " 11  quarantine    361 non-null    bool  \n",
      "dtypes: bool(2), int64(5), object(5)\n",
      "memory usage: 31.7+ KB\n",
      "361\n"
     ]
    }
   ],
   "source": [
    "# drop [removed] AND [deleted]\n",
    "# data.astype({'selftext':'string'}).dtypes\n",
    "# data = data[data[\"selftext\"].str.contains(\"[removed]|[deleted]|deleted|removed\") == False]\n",
    "\n",
    "#identify partial string to look for\n",
    "discard = [\"removed\", \"deleted\"]\n",
    "#drop rows that contain the partial string \"Wes\" in the conference column\n",
    "data = data[~data['selftext'].str.contains('|'.join(discard))]\n",
    "\n",
    "# delete Nan from selftext\n",
    "data = data.dropna(axis=0)\n",
    "\n",
    "data.astype({'selftext':'string'}).dtypes\n",
    "data.info()\n",
    "\n",
    "# delete [removed]\n",
    "print(len(data))\n",
    "#count = [c for c in updated_df['selftext'] if \"[removed]\" in c]\n",
    "#print(len(count)) # 15552 rows of [removed]\n",
    "#filtered_df = updated_df[updated_df['selftext'].str.contains(\"[removed]\") == False]\n",
    "#wrong = updated_df[updated_df['selftext'].str.contains(\"[removed]\") == True]\n",
    "#print(len(filtered_df))\n",
    "#print(len(wrong))\n",
    "#df['selftex'] = df['selftext'].map(lambda x: x.lower())\n",
    "#filtered_df.head()\n",
    "\n",
    "# now reduced to \"1313021\""
   ]
  },
  {
   "cell_type": "code",
   "execution_count": 82,
   "metadata": {},
   "outputs": [
    {
     "data": {
      "text/plain": [
       "7       - https://vimeo.com/153149804\\n- https://www.y...\n",
       "19                           juan by juan. (not my joke).\n",
       "45                                                      ?\n",
       "75      i'm **done** with faux news, and you shoud be ...\n",
       "84                                               #bigddon\n",
       "                              ...                        \n",
       "4738                                  high energy af moab\n",
       "4745                                          that is all\n",
       "4761                        \"stop being poor.\" - ayn rand\n",
       "4771    http://dailycaller.com/2017/03/26/exclusive-jo...\n",
       "4773    bill nye the rapist guy\\n\\n\\nkiddssss rullleee...\n",
       "Name: selftext, Length: 361, dtype: object"
      ]
     },
     "execution_count": 82,
     "metadata": {},
     "output_type": "execute_result"
    }
   ],
   "source": [
    "data['selftext'].map(lambda x: x.lower())"
   ]
  },
  {
   "cell_type": "code",
   "execution_count": 108,
   "metadata": {},
   "outputs": [
    {
     "ename": "TypeError",
     "evalue": "list indices must be integers or slices, not str",
     "output_type": "error",
     "traceback": [
      "\u001b[0;31m---------------------------------------------------------------------------\u001b[0m",
      "\u001b[0;31mTypeError\u001b[0m                                 Traceback (most recent call last)",
      "Input \u001b[0;32mIn [108]\u001b[0m, in \u001b[0;36m<cell line: 2>\u001b[0;34m()\u001b[0m\n\u001b[1;32m      1\u001b[0m \u001b[38;5;66;03m# converting DataFrame column into List\u001b[39;00m\n\u001b[0;32m----> 2\u001b[0m data \u001b[38;5;241m=\u001b[39m \u001b[43mdata\u001b[49m\u001b[43m[\u001b[49m\u001b[38;5;124;43m'\u001b[39;49m\u001b[38;5;124;43mselftext\u001b[39;49m\u001b[38;5;124;43m'\u001b[39;49m\u001b[43m]\u001b[49m\u001b[38;5;241m.\u001b[39mtolist()\n\u001b[1;32m      4\u001b[0m \u001b[38;5;66;03m# Remove url\u001b[39;00m\n\u001b[1;32m      5\u001b[0m data \u001b[38;5;241m=\u001b[39m [re\u001b[38;5;241m.\u001b[39msub(\u001b[38;5;124m'\u001b[39m\u001b[38;5;124m\\\u001b[39m\u001b[38;5;124mS*@\u001b[39m\u001b[38;5;124m\\\u001b[39m\u001b[38;5;124mS*\u001b[39m\u001b[38;5;124m\\\u001b[39m\u001b[38;5;124ms?\u001b[39m\u001b[38;5;124m'\u001b[39m, \u001b[38;5;124m'\u001b[39m\u001b[38;5;124m'\u001b[39m, sent) \u001b[38;5;28;01mfor\u001b[39;00m sent \u001b[38;5;129;01min\u001b[39;00m data]\n",
      "\u001b[0;31mTypeError\u001b[0m: list indices must be integers or slices, not str"
     ]
    }
   ],
   "source": [
    "# converting DataFrame column into List\n",
    "data = data['selftext'].tolist()\n",
    "\n",
    "# Remove url\n",
    "data = [re.sub('\\S*@\\S*\\s?', '', sent) for sent in data]\n",
    "# Remove new line characters\n",
    "data = [re.sub('\\s+', ' ', sent) for sent in data]\n",
    "# remove distracting single quotes\n",
    "data = [re.sub(\"\\'\", \"\", sent) for sent in data]\n",
    "\n",
    "\n",
    "#pprint(data[:1])\n",
    "print(data[0])"
   ]
  },
  {
   "cell_type": "code",
   "execution_count": 84,
   "metadata": {},
   "outputs": [],
   "source": [
    "# Tokenize the Data\n",
    "def sent_to_words(sents, deacc=True):\n",
    "    for sentence in sents:\n",
    "        yield(gensim.utils.simple_preprocess(str(sentence), deacc = True))\n",
    "\n",
    "data_words = list(sent_to_words(data))"
   ]
  },
  {
   "cell_type": "code",
   "execution_count": 85,
   "metadata": {},
   "outputs": [
    {
     "name": "stdout",
     "output_type": "stream",
     "text": [
      "['https', 'vimeo', 'com', 'https', 'www', 'youtube', 'com', 'watch', 'pg', 'rjzyo', 'https', 'www', 'youtube', 'com', 'watch', 'cr_fiq', 'dxhu', 'https', 'www', 'youtube', 'com', 'watch', 'lmwoorwduug', 'https', 'www', 'youtube', 'com', 'watch', 'wykamqvxg', 'https', 'www', 'youtube', 'com', 'watch', 'pkviapyokpk', 'https', 'www', 'youtube', 'com', 'watch', 'ez', 'xdwgt', 'ls', 'https', 'www', 'youtube', 'com', 'watch', 'cmslyk_jdhk', 'https', 'www', 'youtube', 'com', 'watch', 'gktlnwgzz', 'https', 'www', 'youtube', 'com', 'watch', 'zfqdwvdrq', 'https', 'www', 'youtube', 'com', 'watch', 'tai', 'ziy']\n"
     ]
    }
   ],
   "source": [
    "# Defining the Bigram and Trigram Model\n",
    "bigram = gensim.models.Phrases(data_words, min_count=5, threshold=100) # higher threshold fewer phrases.\n",
    "trigram = gensim.models.Phrases(bigram[data_words], threshold=100)\n",
    "\n",
    "# Faster way to get a sentence clubbed as a trigram/bigram\n",
    "bigram_mod = gensim.models.phrases.Phraser(bigram)\n",
    "trigram_mod = gensim.models.phrases.Phraser(trigram)\n",
    "\n",
    "# See trigram example\n",
    "print(trigram_mod[bigram_mod[data_words[0]]])\n"
   ]
  },
  {
   "cell_type": "code",
   "execution_count": 86,
   "metadata": {},
   "outputs": [],
   "source": [
    "# create functions for removing stopwords\n",
    "def remove_stopwords(texts):\n",
    "    return [[word for word in simple_preprocess(str(doc)) if word not in stop_words] for doc in texts]\n",
    "\n",
    "#creating fuctions for making bigram\n",
    "def make_bigrams(texts):\n",
    "    return [bigram_mod[doc] for doc in texts]\n",
    "\n",
    "#creating fuctions for making trigram\n",
    "def make_trigrams(texts):\n",
    "    return [trigram_mod[bigram_mod[doc]] for doc in texts]\n",
    "\n",
    "#creating fuctions for Lemmitization\n",
    "def lemmatization(texts, allowed_postags=['NOUN', 'ADJ', 'VERB', 'ADV']): #corpus will have the words that belong to only these part of speech\n",
    "    \n",
    "    texts_out = []\n",
    "    for sent in texts:\n",
    "        doc = nlp(\" \".join(sent)) \n",
    "        texts_out.append([token.lemma_ for token in doc if token.pos_ in allowed_postags])\n",
    "    return texts_out"
   ]
  },
  {
   "cell_type": "code",
   "execution_count": 87,
   "metadata": {},
   "outputs": [
    {
     "name": "stdout",
     "output_type": "stream",
     "text": [
      "Defaulting to user installation because normal site-packages is not writeable\n",
      "Collecting en-core-web-sm==3.4.1\n",
      "  Downloading https://github.com/explosion/spacy-models/releases/download/en_core_web_sm-3.4.1/en_core_web_sm-3.4.1-py3-none-any.whl (12.8 MB)\n",
      "\u001b[K     |████████████████████████████████| 12.8 MB 3.7 MB/s eta 0:00:01\n",
      "\u001b[?25hRequirement already satisfied: spacy<3.5.0,>=3.4.0 in /storage/home/hcocice1/jpark3141/.local/lib/python3.9/site-packages (from en-core-web-sm==3.4.1) (3.4.3)\n",
      "Requirement already satisfied: pydantic!=1.8,!=1.8.1,<1.11.0,>=1.7.4 in /storage/home/hcocice1/jpark3141/.local/lib/python3.9/site-packages (from spacy<3.5.0,>=3.4.0->en-core-web-sm==3.4.1) (1.10.2)\n",
      "Requirement already satisfied: spacy-loggers<2.0.0,>=1.0.0 in /storage/home/hcocice1/jpark3141/.local/lib/python3.9/site-packages (from spacy<3.5.0,>=3.4.0->en-core-web-sm==3.4.1) (1.0.3)\n",
      "Requirement already satisfied: cymem<2.1.0,>=2.0.2 in /storage/home/hcocice1/jpark3141/.local/lib/python3.9/site-packages (from spacy<3.5.0,>=3.4.0->en-core-web-sm==3.4.1) (2.0.7)\n",
      "Requirement already satisfied: requests<3.0.0,>=2.13.0 in /storage/pace-apps/manual/packages/pytorch/1.11.0/lib/python3.9/site-packages (from spacy<3.5.0,>=3.4.0->en-core-web-sm==3.4.1) (2.27.1)\n",
      "Requirement already satisfied: spacy-legacy<3.1.0,>=3.0.10 in /storage/home/hcocice1/jpark3141/.local/lib/python3.9/site-packages (from spacy<3.5.0,>=3.4.0->en-core-web-sm==3.4.1) (3.0.10)\n",
      "Requirement already satisfied: catalogue<2.1.0,>=2.0.6 in /storage/home/hcocice1/jpark3141/.local/lib/python3.9/site-packages (from spacy<3.5.0,>=3.4.0->en-core-web-sm==3.4.1) (2.0.8)\n",
      "Requirement already satisfied: murmurhash<1.1.0,>=0.28.0 in /storage/home/hcocice1/jpark3141/.local/lib/python3.9/site-packages (from spacy<3.5.0,>=3.4.0->en-core-web-sm==3.4.1) (1.0.9)\n",
      "Requirement already satisfied: wasabi<1.1.0,>=0.9.1 in /storage/home/hcocice1/jpark3141/.local/lib/python3.9/site-packages (from spacy<3.5.0,>=3.4.0->en-core-web-sm==3.4.1) (0.10.1)\n",
      "Requirement already satisfied: thinc<8.2.0,>=8.1.0 in /storage/home/hcocice1/jpark3141/.local/lib/python3.9/site-packages (from spacy<3.5.0,>=3.4.0->en-core-web-sm==3.4.1) (8.1.5)\n",
      "Requirement already satisfied: srsly<3.0.0,>=2.4.3 in /storage/home/hcocice1/jpark3141/.local/lib/python3.9/site-packages (from spacy<3.5.0,>=3.4.0->en-core-web-sm==3.4.1) (2.4.5)\n",
      "Requirement already satisfied: tqdm<5.0.0,>=4.38.0 in /storage/home/hcocice1/jpark3141/.local/lib/python3.9/site-packages (from spacy<3.5.0,>=3.4.0->en-core-web-sm==3.4.1) (4.64.1)\n",
      "Requirement already satisfied: preshed<3.1.0,>=3.0.2 in /storage/home/hcocice1/jpark3141/.local/lib/python3.9/site-packages (from spacy<3.5.0,>=3.4.0->en-core-web-sm==3.4.1) (3.0.8)\n",
      "Requirement already satisfied: numpy>=1.15.0 in /storage/pace-apps/manual/packages/pytorch/1.11.0/lib/python3.9/site-packages (from spacy<3.5.0,>=3.4.0->en-core-web-sm==3.4.1) (1.21.5)\n",
      "Requirement already satisfied: jinja2 in /storage/pace-apps/manual/packages/pytorch/1.11.0/lib/python3.9/site-packages (from spacy<3.5.0,>=3.4.0->en-core-web-sm==3.4.1) (3.0.3)\n",
      "Requirement already satisfied: typer<0.8.0,>=0.3.0 in /storage/home/hcocice1/jpark3141/.local/lib/python3.9/site-packages (from spacy<3.5.0,>=3.4.0->en-core-web-sm==3.4.1) (0.7.0)\n",
      "Requirement already satisfied: langcodes<4.0.0,>=3.2.0 in /storage/home/hcocice1/jpark3141/.local/lib/python3.9/site-packages (from spacy<3.5.0,>=3.4.0->en-core-web-sm==3.4.1) (3.3.0)\n",
      "Requirement already satisfied: pathy>=0.3.5 in /storage/home/hcocice1/jpark3141/.local/lib/python3.9/site-packages (from spacy<3.5.0,>=3.4.0->en-core-web-sm==3.4.1) (0.6.2)\n",
      "Requirement already satisfied: setuptools in /storage/pace-apps/manual/packages/pytorch/1.11.0/lib/python3.9/site-packages (from spacy<3.5.0,>=3.4.0->en-core-web-sm==3.4.1) (61.2.0)\n",
      "Requirement already satisfied: packaging>=20.0 in /storage/pace-apps/manual/packages/pytorch/1.11.0/lib/python3.9/site-packages (from spacy<3.5.0,>=3.4.0->en-core-web-sm==3.4.1) (21.3)\n",
      "Requirement already satisfied: pyparsing!=3.0.5,>=2.0.2 in /storage/pace-apps/manual/packages/pytorch/1.11.0/lib/python3.9/site-packages (from packaging>=20.0->spacy<3.5.0,>=3.4.0->en-core-web-sm==3.4.1) (3.0.4)\n",
      "Requirement already satisfied: smart-open<6.0.0,>=5.2.1 in /storage/home/hcocice1/jpark3141/.local/lib/python3.9/site-packages (from pathy>=0.3.5->spacy<3.5.0,>=3.4.0->en-core-web-sm==3.4.1) (5.2.1)\n",
      "Requirement already satisfied: typing-extensions>=4.1.0 in /storage/pace-apps/manual/packages/pytorch/1.11.0/lib/python3.9/site-packages (from pydantic!=1.8,!=1.8.1,<1.11.0,>=1.7.4->spacy<3.5.0,>=3.4.0->en-core-web-sm==3.4.1) (4.1.1)\n",
      "Requirement already satisfied: urllib3<1.27,>=1.21.1 in /storage/pace-apps/manual/packages/pytorch/1.11.0/lib/python3.9/site-packages (from requests<3.0.0,>=2.13.0->spacy<3.5.0,>=3.4.0->en-core-web-sm==3.4.1) (1.26.8)\n",
      "Requirement already satisfied: idna<4,>=2.5 in /storage/pace-apps/manual/packages/pytorch/1.11.0/lib/python3.9/site-packages (from requests<3.0.0,>=2.13.0->spacy<3.5.0,>=3.4.0->en-core-web-sm==3.4.1) (3.3)\n",
      "Requirement already satisfied: certifi>=2017.4.17 in /storage/pace-apps/manual/packages/pytorch/1.11.0/lib/python3.9/site-packages (from requests<3.0.0,>=2.13.0->spacy<3.5.0,>=3.4.0->en-core-web-sm==3.4.1) (2021.10.8)\n",
      "Requirement already satisfied: charset-normalizer~=2.0.0 in /storage/pace-apps/manual/packages/pytorch/1.11.0/lib/python3.9/site-packages (from requests<3.0.0,>=2.13.0->spacy<3.5.0,>=3.4.0->en-core-web-sm==3.4.1) (2.0.4)\n",
      "Requirement already satisfied: blis<0.8.0,>=0.7.8 in /storage/home/hcocice1/jpark3141/.local/lib/python3.9/site-packages (from thinc<8.2.0,>=8.1.0->spacy<3.5.0,>=3.4.0->en-core-web-sm==3.4.1) (0.7.9)\n",
      "Requirement already satisfied: confection<1.0.0,>=0.0.1 in /storage/home/hcocice1/jpark3141/.local/lib/python3.9/site-packages (from thinc<8.2.0,>=8.1.0->spacy<3.5.0,>=3.4.0->en-core-web-sm==3.4.1) (0.0.3)\n",
      "Requirement already satisfied: click<9.0.0,>=7.1.1 in /storage/home/hcocice1/jpark3141/.local/lib/python3.9/site-packages (from typer<0.8.0,>=0.3.0->spacy<3.5.0,>=3.4.0->en-core-web-sm==3.4.1) (8.1.3)\n",
      "Requirement already satisfied: MarkupSafe>=2.0 in /storage/pace-apps/manual/packages/pytorch/1.11.0/lib/python3.9/site-packages (from jinja2->spacy<3.5.0,>=3.4.0->en-core-web-sm==3.4.1) (2.0.1)\n",
      "\u001b[38;5;2m✔ Download and installation successful\u001b[0m\n",
      "You can now load the package via spacy.load('en_core_web_sm')\n"
     ]
    }
   ],
   "source": [
    "!python3 -m spacy download en_core_web_sm"
   ]
  },
  {
   "cell_type": "code",
   "execution_count": 88,
   "metadata": {},
   "outputs": [],
   "source": [
    "#Using all the Functions Created for Preprocessing\n",
    "data_words_nostops = remove_stopwords(data_words)"
   ]
  },
  {
   "cell_type": "code",
   "execution_count": 89,
   "metadata": {},
   "outputs": [],
   "source": [
    "# Form Bigrams\n",
    "data_words_bigrams = make_bigrams(data_words_nostops)"
   ]
  },
  {
   "cell_type": "code",
   "execution_count": 90,
   "metadata": {},
   "outputs": [],
   "source": [
    "# Initialize spacy 'en' model, keeping only tagger component (for efficiency)\n",
    "# python3 -m spacy download en\n",
    "nlp = spacy.load('en_core_web_sm', disable=['parser', 'ner'])"
   ]
  },
  {
   "cell_type": "code",
   "execution_count": 91,
   "metadata": {},
   "outputs": [
    {
     "name": "stdout",
     "output_type": "stream",
     "text": [
      "[['dxhu', 'https', 'youtube', 'https', 'youtube', 'wykamqvxg', 'https', 'youtube', 'https', 'youtube', 'watch', 'https', 'youtube', 'watch', 'https', 'youtube', 'youtube', 'watch', 'tai', 'ziy']]\n"
     ]
    }
   ],
   "source": [
    "# Do lemmatization keeping only noun, adj, vb, adv\n",
    "data_lemmatized = lemmatization(data_words_bigrams, allowed_postags=['NOUN', 'ADJ', 'VERB', 'ADV'])\n",
    "\n",
    "print(data_lemmatized[:1])"
   ]
  },
  {
   "cell_type": "code",
   "execution_count": 92,
   "metadata": {},
   "outputs": [],
   "source": [
    "# Again Removing Stop Words\n",
    "# sometimes Lemma can be equivalent to the stopwords... \n",
    "data_words_nostops = remove_stopwords(data_lemmatized)"
   ]
  },
  {
   "cell_type": "code",
   "execution_count": 93,
   "metadata": {},
   "outputs": [],
   "source": [
    "# Create Dictionary\n",
    "id2word = corpora.Dictionary(data_lemmatized)\n",
    "\n",
    "# Create Corpus\n",
    "texts = data_lemmatized\n",
    "\n",
    "# Term Document Frequency\n",
    "corpus = [id2word.doc2bow(text) for text in texts]"
   ]
  },
  {
   "cell_type": "markdown",
   "metadata": {},
   "source": [
    "# Use LDA for Topic Modeling"
   ]
  },
  {
   "cell_type": "code",
   "execution_count": 94,
   "metadata": {},
   "outputs": [],
   "source": [
    "#here we are trying to get the optimal model according to the Coherence score(meseaure of Separability) to figure out no of topics ..\n",
    "def tune_model(dictionary, corpus, texts, limit, start, step):\n",
    "    \n",
    "    coherence_values = []\n",
    "    model_list = []\n",
    "    for num_topics in tqdm(range(start, limit, step)):\n",
    "        model = gensim.models.ldamodel.LdaModel(corpus=corpus,\n",
    "                                           id2word=id2word,\n",
    "                                           num_topics=num_topics, \n",
    "                                           random_state=100,\n",
    "                                           update_every=1,\n",
    "                                           chunksize=100,\n",
    "                                           passes=10,\n",
    "                                           alpha='auto',\n",
    "                                           per_word_topics=True,\n",
    "                                           )\n",
    "        model_list.append(model)\n",
    "        coherencemodel = CoherenceModel(model=model, texts=texts, dictionary=dictionary, coherence='c_v')\n",
    "        coherence_values.append(round(coherencemodel.get_coherence(),3))\n",
    "\n",
    "    return model_list, coherence_values"
   ]
  },
  {
   "cell_type": "code",
   "execution_count": 95,
   "metadata": {},
   "outputs": [
    {
     "name": "stderr",
     "output_type": "stream",
     "text": [
      "  0%|          | 0/8 [00:00<?, ?it/s]/storage/home/hcocice1/jpark3141/.local/lib/python3.9/site-packages/gensim/topic_coherence/direct_confirmation_measure.py:204: RuntimeWarning: divide by zero encountered in double_scalars\n",
      "  m_lr_i = np.log(numerator / denominator)\n",
      "/storage/home/hcocice1/jpark3141/.local/lib/python3.9/site-packages/gensim/topic_coherence/indirect_confirmation_measure.py:323: RuntimeWarning: invalid value encountered in double_scalars\n",
      "  return cv1.T.dot(cv2)[0, 0] / (_magnitude(cv1) * _magnitude(cv2))\n",
      "100%|██████████| 8/8 [00:08<00:00,  1.04s/it]\n"
     ]
    }
   ],
   "source": [
    "# Can take a long time to run\n",
    "from tqdm import tqdm\n",
    "model_list, coherence_values = tune_model(dictionary=id2word, corpus=corpus, texts=data_lemmatized, start=2, limit=10, step=1)"
   ]
  },
  {
   "cell_type": "markdown",
   "metadata": {},
   "source": [
    "# Coherence Score"
   ]
  },
  {
   "cell_type": "markdown",
   "metadata": {},
   "source": [
    "## Plotting Line Graph for Coherence Score"
   ]
  },
  {
   "cell_type": "code",
   "execution_count": 96,
   "metadata": {},
   "outputs": [
    {
     "name": "stdout",
     "output_type": "stream",
     "text": [
      "[nan, nan, nan, nan, nan, nan, nan, nan]\n"
     ]
    }
   ],
   "source": [
    "print(coherence_values)"
   ]
  },
  {
   "cell_type": "code",
   "execution_count": 97,
   "metadata": {},
   "outputs": [
    {
     "data": {
      "image/png": "[encoded data removed]",
      "text/plain": [
       "<Figure size 432x288 with 1 Axes>"
      ]
     },
     "metadata": {
      "needs_background": "light"
     },
     "output_type": "display_data"
    }
   ],
   "source": [
    "limit=10; start=2; step=1;\n",
    "x = range(start, limit, step)\n",
    "plt.plot(x, coherence_values)\n",
    "plt.xlabel(\"Num Topics\")\n",
    "plt.ylabel(\"Coherence score\")\n",
    "plt.legend((\"coherence_values\"), loc='best')\n",
    "plt.show()"
   ]
  },
  {
   "cell_type": "markdown",
   "metadata": {},
   "source": [
    "## Print Coherence Scores"
   ]
  },
  {
   "cell_type": "code",
   "execution_count": 98,
   "metadata": {},
   "outputs": [
    {
     "name": "stdout",
     "output_type": "stream",
     "text": [
      "Num Topics = 2  has Coherence Value of nan\n",
      "Num Topics = 3  has Coherence Value of nan\n",
      "Num Topics = 4  has Coherence Value of nan\n",
      "Num Topics = 5  has Coherence Value of nan\n",
      "Num Topics = 6  has Coherence Value of nan\n",
      "Num Topics = 7  has Coherence Value of nan\n",
      "Num Topics = 8  has Coherence Value of nan\n",
      "Num Topics = 9  has Coherence Value of nan\n"
     ]
    }
   ],
   "source": [
    "# Print the coherence scores\n",
    "for m, cv in zip(x, coherence_values):\n",
    "    print(\"Num Topics =\", m, \" has Coherence Value of\", round(cv, 4))"
   ]
  },
  {
   "cell_type": "markdown",
   "metadata": {},
   "source": [
    "### Should Figure out our maximum Coherence Value!! -> LDA Model"
   ]
  },
  {
   "cell_type": "code",
   "execution_count": 99,
   "metadata": {},
   "outputs": [],
   "source": [
    "#here we knew that the coherence score is maximum for 6 topics so that will become our optimal model\n",
    "lda_model = gensim.models.ldamodel.LdaModel(corpus=corpus,\n",
    "                                           id2word=id2word,\n",
    "                                           num_topics=6, \n",
    "                                           random_state=100,\n",
    "                                           update_every=1,\n",
    "                                           chunksize=100,\n",
    "                                           passes=10,\n",
    "                                           alpha='auto',\n",
    "                                           per_word_topics=True)"
   ]
  },
  {
   "cell_type": "code",
   "execution_count": 100,
   "metadata": {},
   "outputs": [
    {
     "name": "stdout",
     "output_type": "stream",
     "text": [
      "[(0,\n",
      "  '0.060*\"maga\" + 0.034*\"ifififif\" + 0.029*\"net\" + 0.025*\"file\" + 0.025*\"png\" '\n",
      "  '+ 0.016*\"medium\" + 0.014*\"upload\" + 0.014*\"link\" + 0.010*\"berkeley\" + '\n",
      "  '0.010*\"sadddddd\"'),\n",
      " (1,\n",
      "  '0.019*\"reform\" + 0.019*\"article\" + 0.017*\"happen\" + 0.016*\"politic\" + '\n",
      "  '0.015*\"train\" + 0.015*\"shame\" + 0.015*\"mod\" + 0.015*\"jpg\" + 0.013*\"call\" + '\n",
      "  '0.012*\"prison\"'),\n",
      " (2,\n",
      "  '0.041*\"http\" + 0.012*\"meme\" + 0.011*\"comment\" + 0.011*\"source\" + '\n",
      "  '0.011*\"reddit\" + 0.009*\"thehill\" + 0.009*\"election\" + 0.008*\"trump\" + '\n",
      "  '0.008*\"day\" + 0.008*\"fyi\"'),\n",
      " (3,\n",
      "  '0.078*\"trump\" + 0.021*\"org\" + 0.020*\"wikileak\" + 0.018*\"cuck\" + '\n",
      "  '0.016*\"emperor\" + 0.015*\"podesta\" + 0.014*\"confirm\" + 0.013*\"email\" + '\n",
      "  '0.012*\"donate\" + 0.011*\"emailid\"'),\n",
      " (4,\n",
      "  '0.066*\"btfo\" + 0.049*\"amp\" + 0.023*\"rapist\" + 0.020*\"people\" + '\n",
      "  '0.019*\"centipede\" + 0.017*\"love\" + 0.016*\"win\" + 0.016*\"brake\" + '\n",
      "  '0.013*\"absolutely\" + 0.010*\"wall\"'),\n",
      " (5,\n",
      "  '0.123*\"https\" + 0.049*\"watch\" + 0.035*\"youtube\" + 0.034*\"energy\" + '\n",
      "  '0.029*\"sli\" + 0.022*\"vote\" + 0.019*\"share\" + 0.018*\"high\" + 0.017*\"status\" '\n",
      "  '+ 0.017*\"week\"')]\n"
     ]
    }
   ],
   "source": [
    "#getting dominant words for each topics \n",
    "pprint(lda_model.print_topics())\n",
    "doc_lda = lda_model[corpus]"
   ]
  },
  {
   "cell_type": "markdown",
   "metadata": {},
   "source": [
    "# Result"
   ]
  },
  {
   "cell_type": "markdown",
   "metadata": {},
   "source": [
    "## Cluster topics and see the dominant words in graphics"
   ]
  },
  {
   "cell_type": "code",
   "execution_count": 101,
   "metadata": {},
   "outputs": [
    {
     "name": "stderr",
     "output_type": "stream",
     "text": [
      "/storage/home/hcocice1/jpark3141/.local/lib/python3.9/site-packages/pyLDAvis/_prepare.py:246: FutureWarning: In a future version of pandas all arguments of DataFrame.drop except for the argument 'labels' will be keyword-only.\n",
      "  default_term_info = default_term_info.sort_values(\n",
      "/storage/home/hcocice1/jpark3141/.local/lib/python3.9/site-packages/past/builtins/misc.py:45: DeprecationWarning: the imp module is deprecated in favour of importlib; see the module's documentation for alternative uses\n",
      "  from imp import reload\n",
      "/storage/home/hcocice1/jpark3141/.local/lib/python3.9/site-packages/past/builtins/misc.py:45: DeprecationWarning: the imp module is deprecated in favour of importlib; see the module's documentation for alternative uses\n",
      "  from imp import reload\n",
      "/storage/home/hcocice1/jpark3141/.local/lib/python3.9/site-packages/past/builtins/misc.py:45: DeprecationWarning: the imp module is deprecated in favour of importlib; see the module's documentation for alternative uses\n",
      "  from imp import reload\n",
      "/storage/home/hcocice1/jpark3141/.local/lib/python3.9/site-packages/past/builtins/misc.py:45: DeprecationWarning: the imp module is deprecated in favour of importlib; see the module's documentation for alternative uses\n",
      "  from imp import reload\n"
     ]
    },
    {
     "data": {
      "text/html": [
       "\n",
       "<link rel=\"stylesheet\" type=\"text/css\" href=\"https://cdn.jsdelivr.net/gh/bmabey/pyLDAvis@3.3.1/pyLDAvis/js/ldavis.v1.0.0.css\">\n",
       "\n",
       "\n",
       "<div id=\"ldavis_el224428469136447419049488973701\"></div>\n",
       "<script type=\"text/javascript\">\n",
       "\n",
       "var ldavis_el224428469136447419049488973701_data = {\"mdsDat\": {\"x\": [0.0018035415293186534, 0.09898550963632272, -0.19901725418580463, 0.03222130313481387, 0.040829600798330784, 0.025177299087018625], \"y\": [-0.1540936412475913, 0.1453554463451202, 0.06307841477094343, -0.026065166755476894, -0.0003023605894242221, -0.027972692523571128], \"topics\": [1, 2, 3, 4, 5, 6], \"cluster\": [1, 1, 1, 1, 1, 1], \"Freq\": [28.586396637193424, 20.85600351756531, 15.752435495338268, 12.163970988373775, 11.95310318705399, 10.688090174475231]}, \"tinfo\": {\"Term\": [\"https\", \"btfo\", \"trump\", \"maga\", \"amp\", \"watch\", \"http\", \"youtube\", \"energy\", \"ifififif\", \"sli\", \"net\", \"file\", \"rapist\", \"png\", \"vote\", \"people\", \"org\", \"centipede\", \"wikileak\", \"share\", \"high\", \"reform\", \"article\", \"status\", \"cuck\", \"love\", \"week\", \"win\", \"happen\", \"http\", \"meme\", \"reddit\", \"source\", \"day\", \"fyi\", \"ve\", \"infowar\", \"dailycaller\", \"national\", \"service\", \"anti\", \"socialist\", \"magic\", \"live\", \"victory\", \"bernie\", \"inauguration\", \"sander\", \"shoot\", \"guy\", \"jail\", \"history\", \"evil\", \"party\", \"racist\", \"dump\", \"eternally\", \"family\", \"month\", \"thehill\", \"comment\", \"kill\", \"election\", \"trump\", \"https\", \"btfo\", \"amp\", \"rapist\", \"people\", \"centipede\", \"love\", \"win\", \"brake\", \"absolutely\", \"wall\", \"minute\", \"officially\", \"search\", \"member\", \"shill\", \"full\", \"isis\", \"turn\", \"death\", \"big\", \"tw\", \"man\", \"go\", \"basket\", \"debate\", \"join\", \"long\", \"top\", \"mercyyyyy\", \"astounding\", \"bastard\", \"medium\", \"wikileak\", \"watch\", \"youtube\", \"energy\", \"sli\", \"https\", \"vote\", \"share\", \"high\", \"status\", \"week\", \"time\", \"prove\", \"jqjlmfqua\", \"lyluixwnrc\", \"worth\", \"bot\", \"frllow\", \"human\", \"sad\", \"video\", \"project\", \"hope\", \"topic\", \"match\", \"kfat\", \"locale\", \"movement\", \"thunderclap\", \"uzlodhiavca\", \"office\", \"state\", \"twitter\", \"low\", \"org\", \"cuck\", \"emperor\", \"podesta\", \"confirm\", \"trump\", \"email\", \"donate\", \"emailid\", \"counterpunch\", \"hack\", \"yeeeaaaahhhh\", \"porkchop\", \"clap\", \"environment\", \"park\", \"policy\", \"quarter\", \"salary\", \"presidential\", \"point\", \"stand\", \"voter\", \"message\", \"bitch\", \"race\", \"wew\", \"drumpf\", \"charge\", \"sign\", \"wikileak\", \"maga\", \"ifififif\", \"net\", \"file\", \"png\", \"link\", \"sadddddd\", \"berkeley\", \"poor\", \"acce\", \"ad\", \"ichef\", \"image\", \"newswithview\", \"production\", \"profile_image\", \"qwcq\", \"wordpress\", \"magaimg\", \"lock\", \"voting\", \"story\", \"site\", \"close\", \"upload\", \"insider\", \"cbsistatic\", \"cbsnew\", \"costume\", \"hub\", \"default\", \"kkk\", \"medium\", \"large\", \"reform\", \"article\", \"happen\", \"train\", \"mod\", \"shame\", \"jpg\", \"prison\", \"federal\", \"mess\", \"accomplish\", \"hearing\", \"postal\", \"jumpsuit\", \"profit\", \"step\", \"ku\", \"tq\", \"gender\", \"unite\", \"truth\", \"rhty\", \"rullleeeeee\", \"disclose\", \"law\", \"stock\", \"violate\", \"barron\", \"ssf\", \"good\", \"politic\", \"call\", \"election\"], \"Freq\": [24.0, 16.0, 13.0, 8.0, 12.0, 9.0, 13.0, 6.0, 6.0, 5.0, 5.0, 4.0, 3.0, 5.0, 3.0, 4.0, 5.0, 3.0, 5.0, 4.0, 3.0, 3.0, 2.0, 2.0, 3.0, 2.0, 4.0, 3.0, 4.0, 2.0, 13.057021462255662, 3.8458538547785404, 3.4743436517637316, 3.479951154799731, 2.553306852467092, 2.553266346666361, 2.5526134531671727, 2.552576247839094, 2.550887606013068, 2.544733424688686, 2.54466051424737, 2.3579176712880687, 2.3577284941965067, 2.3568726216292113, 2.042192057039862, 2.004081049261059, 1.8087610279862463, 1.8087610279862463, 1.8087610279862463, 1.7995309561715465, 1.6504189022201607, 1.6135532227816065, 1.6129351342667497, 1.6127767115794467, 1.6127767115794467, 1.6127767115794467, 1.6122975429589486, 1.6122975429589486, 1.6122975429589486, 1.6122975429589486, 2.8240713279469625, 3.5060551930915045, 2.152845653455064, 2.7865011476186585, 2.712535455183248, 2.06447669836568, 15.485489892085983, 11.558460017921158, 5.428305162828503, 4.736443217402416, 4.515725964478975, 3.9107643777142136, 3.8450071505152428, 3.7111455996898752, 2.9484973099855702, 2.393482337981123, 2.366448918263855, 2.191390593314309, 2.187609014244752, 1.986828289956958, 1.9861072178032608, 1.7768685623258869, 1.4321078542557288, 1.4306230235275783, 1.430323999677563, 1.2760051458833235, 1.2276178989089417, 1.2276119884814525, 1.2276078292917376, 1.2274374119657956, 1.227135104544953, 1.227044040180673, 1.227044040180673, 1.220938678036565, 0.886293502435839, 0.8862934477096586, 1.2894838757727207, 2.3780160626699005, 1.7776649377038924, 8.6685052574688, 6.256690636480189, 6.05318578789257, 5.173894067288631, 21.898205264819495, 3.834024244485505, 3.3973923241181683, 3.235397806088932, 3.0598918956926857, 3.007313532488287, 2.690777917476129, 2.2299683425736405, 1.589020592468903, 1.5890103415348997, 1.5890103415348997, 1.5885075497557994, 1.5885075497557994, 1.5885075497557994, 1.4505785873382588, 1.2246376683013651, 1.1068640261861744, 1.0974401937530043, 0.9143738061851662, 0.7965976840052971, 0.7634972527708005, 0.7634945246996544, 0.7634945246996544, 0.7634945246996544, 0.7634922099726215, 0.7634879938626684, 1.2680016818690814, 1.2359151837438689, 0.7966623310245764, 2.8254918213285256, 2.427423428294079, 2.241057212403919, 2.085989674697859, 1.984100920877695, 10.64691029945837, 1.8195288866910044, 1.7107722136405124, 1.5152162154686466, 1.4071281664586288, 1.4071281664586288, 1.4070855236422226, 1.4070855236422226, 1.4070855236422226, 1.4058483712740357, 1.4058483712740357, 1.4058483712740357, 1.4058483712740357, 1.4058483712740357, 1.3981920706326079, 1.0958304997704806, 1.0957453418107717, 1.0957453418107717, 1.0852009479061078, 1.0697248612148453, 0.8209249658745474, 0.8209114325256281, 0.9230392542311822, 0.8165353092467864, 0.8114551326413847, 2.6733128875781134, 8.094458184693996, 4.6239074751610545, 3.845407127559546, 3.4219618724683376, 3.4063283226198524, 1.8201489321077782, 1.3961976975081924, 1.3961976975081924, 1.3961976975081924, 1.3957520641797132, 1.3957520641797132, 1.3957520641797132, 1.3957520641797132, 1.3957520641797132, 1.3957520641797132, 1.3957520641797132, 1.3957518132600462, 1.3957518132600462, 1.3957467948667075, 1.2309973326503036, 1.2245917299329125, 1.085048779238126, 0.9727516896579838, 0.9659164497408804, 1.9212477278722067, 0.6999612372520164, 0.670871618424722, 0.670871618424722, 0.670871618424722, 0.670871618424722, 1.2292238324443958, 1.245516673717757, 2.090766294738241, 0.6708863599551544, 2.346764500663323, 2.239280443022556, 2.08426476593705, 1.846535096437676, 1.8316989938378019, 1.8367566184095427, 1.8004254991975197, 1.4779952018140234, 1.4778134665685656, 1.2342063446123857, 1.2152585381751535, 1.2152585381751535, 1.2152585381751535, 1.2152470955856247, 1.2152470955856247, 1.2152470955856247, 1.2152470955856247, 1.2152470955856247, 1.2152214058503101, 1.2152214058503101, 1.2152214058503101, 1.2152214058503101, 1.2152214058503101, 1.2148552429853876, 1.2148552429853876, 1.2148552429853876, 1.2148552429853876, 1.2148282070630696, 1.2148282070630696, 1.2091198132574392, 1.9784176716924065, 1.5834956529052937, 1.470232077912217], \"Total\": [24.0, 16.0, 13.0, 8.0, 12.0, 9.0, 13.0, 6.0, 6.0, 5.0, 5.0, 4.0, 3.0, 5.0, 3.0, 4.0, 5.0, 3.0, 5.0, 4.0, 3.0, 3.0, 2.0, 2.0, 3.0, 2.0, 4.0, 3.0, 4.0, 2.0, 13.586903930399732, 4.360832536896965, 3.9886968588012772, 3.996809184876726, 3.067322248728529, 3.067283672076749, 3.067318104148677, 3.0672827621404246, 3.0672550051650784, 3.0653763114143655, 3.065387031596549, 2.8720141717688352, 2.871988699903018, 2.8719372146636686, 2.556286422128292, 2.5186075664393943, 2.3227767928214376, 2.3227767928214376, 2.3227767928214376, 2.3136827220760967, 2.1649801747862627, 2.1275690907145104, 2.1275286516497305, 2.12750719950776, 2.12750719950776, 2.12750719950776, 2.1274786578758302, 2.1274786578758302, 2.1274786578758302, 2.1274786578758302, 3.8583763801625226, 5.1186599830385076, 3.2171983272173716, 4.689441680950071, 13.77958230259053, 24.36887038346146, 16.01157511211392, 12.072022852884766, 5.943213815005771, 5.249249931809037, 5.032494295659535, 4.424860616692803, 4.357787816098026, 4.225505169646058, 3.4662599375444096, 2.906405265796014, 2.9022478643539946, 2.707094625859554, 2.70485778834529, 2.498368191409816, 2.498182329393637, 2.2890977636348953, 1.9479682142218406, 1.9478185154615886, 1.947764891407138, 1.7961471892777505, 1.7391573173439425, 1.7391516300868548, 1.7391476144704576, 1.7390928338589793, 1.7390209586793337, 1.7389886643310033, 1.7389886643310033, 1.737430471713561, 1.3978340891701957, 1.3978340344440152, 2.1498021080909435, 5.3210512608767795, 4.866108196828245, 9.197728717637618, 6.787388968625005, 6.590043636726506, 5.707368029329432, 24.36887038346146, 4.366359265322878, 3.937731224438469, 3.7702974481954534, 3.5896209707391695, 3.606040780864638, 3.2376629700911326, 2.7737286310655707, 2.118197548281213, 2.118187759028889, 2.118187759028889, 2.118267844161959, 2.118267844161959, 2.118267844161959, 1.9797558336455432, 1.7635287639387918, 1.6362174426238538, 1.6350180439613515, 1.4580549526202824, 1.3257747800380468, 1.292673764888179, 1.2926711784140248, 1.2926711784140248, 1.2926711784140248, 1.2926689715403388, 1.2926649746731167, 2.190915028496511, 2.3166152320272495, 1.629951843678484, 3.3674224106151542, 2.9697456942475484, 2.7991260176542974, 2.6385245784077003, 2.5279305453962575, 13.77958230259053, 2.3614750189375893, 2.2532104556097403, 2.0572823885842824, 1.9488518276185145, 1.9488518276185145, 1.9488120750831623, 1.9488120750831623, 1.9488120750831623, 1.9491213916606436, 1.9491213916606436, 1.9491213916606436, 1.9491213916606436, 1.9491213916606436, 1.9422429569345285, 1.6375536130045247, 1.6375656655011168, 1.6375656655011168, 1.6403004143337823, 1.6443471783100077, 1.3626477992976662, 1.3626353281084211, 1.5376981744599654, 1.363651876832328, 1.3651948117405326, 4.866108196828245, 8.640698384182215, 5.166381638560622, 4.388054876767813, 3.964495586545585, 3.950088207449216, 2.3626252982361096, 1.9386754598945881, 1.9386754598945881, 1.9386754598945881, 1.9387568497796541, 1.9387568497796541, 1.9387568497796541, 1.9387568497796541, 1.9387568497796541, 1.9387568497796541, 1.9387568497796541, 1.938756598859987, 1.938756598859987, 1.938827596079824, 1.7734726619977006, 1.773934536337615, 1.6304280619244964, 1.515226537134807, 1.5170710521063113, 3.272372009294504, 1.2424354641123534, 1.2133490964216558, 1.2133490964216558, 1.2133490964216558, 1.2133490964216558, 2.343352217477918, 2.5323253754526753, 5.3210512608767795, 1.957546207284308, 2.9017222297752494, 2.7961109294205304, 2.639329738502421, 2.4019665284609837, 2.389617494889372, 2.3972382497449782, 2.4015375320510115, 2.032953262678145, 2.033009128132596, 1.7894627508894374, 1.7702163580852093, 1.7702163580852093, 1.7702163580852093, 1.7702057657204624, 1.7702057657204624, 1.7702057657204624, 1.7702057657204624, 1.7702057657204624, 1.7701820940139328, 1.7701820940139328, 1.7701820940139328, 1.7701820940139328, 1.7701820940139328, 1.770326229611781, 1.770326229611781, 1.770326229611781, 1.770326229611781, 1.7703898765948476, 1.7703898765948476, 1.7640777122352476, 2.96094423921453, 3.6279211048878226, 4.689441680950071], \"Category\": [\"Default\", \"Default\", \"Default\", \"Default\", \"Default\", \"Default\", \"Default\", \"Default\", \"Default\", \"Default\", \"Default\", \"Default\", \"Default\", \"Default\", \"Default\", \"Default\", \"Default\", \"Default\", \"Default\", \"Default\", \"Default\", \"Default\", \"Default\", \"Default\", \"Default\", \"Default\", \"Default\", \"Default\", \"Default\", \"Default\", \"Topic1\", \"Topic1\", \"Topic1\", \"Topic1\", \"Topic1\", \"Topic1\", \"Topic1\", \"Topic1\", \"Topic1\", \"Topic1\", \"Topic1\", \"Topic1\", \"Topic1\", \"Topic1\", \"Topic1\", \"Topic1\", \"Topic1\", \"Topic1\", \"Topic1\", \"Topic1\", \"Topic1\", \"Topic1\", \"Topic1\", \"Topic1\", \"Topic1\", \"Topic1\", \"Topic1\", \"Topic1\", \"Topic1\", \"Topic1\", \"Topic1\", \"Topic1\", \"Topic1\", \"Topic1\", \"Topic1\", \"Topic1\", \"Topic2\", \"Topic2\", \"Topic2\", \"Topic2\", \"Topic2\", \"Topic2\", \"Topic2\", \"Topic2\", \"Topic2\", \"Topic2\", \"Topic2\", \"Topic2\", \"Topic2\", \"Topic2\", \"Topic2\", \"Topic2\", \"Topic2\", \"Topic2\", \"Topic2\", \"Topic2\", \"Topic2\", \"Topic2\", \"Topic2\", \"Topic2\", \"Topic2\", \"Topic2\", \"Topic2\", \"Topic2\", \"Topic2\", \"Topic2\", \"Topic2\", \"Topic2\", \"Topic2\", \"Topic3\", \"Topic3\", \"Topic3\", \"Topic3\", \"Topic3\", \"Topic3\", \"Topic3\", \"Topic3\", \"Topic3\", \"Topic3\", \"Topic3\", \"Topic3\", \"Topic3\", \"Topic3\", \"Topic3\", \"Topic3\", \"Topic3\", \"Topic3\", \"Topic3\", \"Topic3\", \"Topic3\", \"Topic3\", \"Topic3\", \"Topic3\", \"Topic3\", \"Topic3\", \"Topic3\", \"Topic3\", \"Topic3\", \"Topic3\", \"Topic3\", \"Topic3\", \"Topic3\", \"Topic4\", \"Topic4\", \"Topic4\", \"Topic4\", \"Topic4\", \"Topic4\", \"Topic4\", \"Topic4\", \"Topic4\", \"Topic4\", \"Topic4\", \"Topic4\", \"Topic4\", \"Topic4\", \"Topic4\", \"Topic4\", \"Topic4\", \"Topic4\", \"Topic4\", \"Topic4\", \"Topic4\", \"Topic4\", \"Topic4\", \"Topic4\", \"Topic4\", \"Topic4\", \"Topic4\", \"Topic4\", \"Topic4\", \"Topic4\", \"Topic4\", \"Topic5\", \"Topic5\", \"Topic5\", \"Topic5\", \"Topic5\", \"Topic5\", \"Topic5\", \"Topic5\", \"Topic5\", \"Topic5\", \"Topic5\", \"Topic5\", \"Topic5\", \"Topic5\", \"Topic5\", \"Topic5\", \"Topic5\", \"Topic5\", \"Topic5\", \"Topic5\", \"Topic5\", \"Topic5\", \"Topic5\", \"Topic5\", \"Topic5\", \"Topic5\", \"Topic5\", \"Topic5\", \"Topic5\", \"Topic5\", \"Topic5\", \"Topic5\", \"Topic5\", \"Topic5\", \"Topic6\", \"Topic6\", \"Topic6\", \"Topic6\", \"Topic6\", \"Topic6\", \"Topic6\", \"Topic6\", \"Topic6\", \"Topic6\", \"Topic6\", \"Topic6\", \"Topic6\", \"Topic6\", \"Topic6\", \"Topic6\", \"Topic6\", \"Topic6\", \"Topic6\", \"Topic6\", \"Topic6\", \"Topic6\", \"Topic6\", \"Topic6\", \"Topic6\", \"Topic6\", \"Topic6\", \"Topic6\", \"Topic6\", \"Topic6\", \"Topic6\", \"Topic6\", \"Topic6\"], \"logprob\": [30.0, 29.0, 28.0, 27.0, 26.0, 25.0, 24.0, 23.0, 22.0, 21.0, 20.0, 19.0, 18.0, 17.0, 16.0, 15.0, 14.0, 13.0, 12.0, 11.0, 10.0, 9.0, 8.0, 7.0, 6.0, 5.0, 4.0, 3.0, 2.0, 1.0, -3.2057, -4.4281, -4.5297, -4.5281, -4.8377, -4.8377, -4.838, -4.838, -4.8386, -4.841, -4.8411, -4.9173, -4.9174, -4.9177, -5.0611, -5.0799, -5.1824, -5.1824, -5.1824, -5.1875, -5.274, -5.2966, -5.297, -5.2971, -5.2971, -5.2971, -5.2974, -5.2974, -5.2974, -5.2974, -4.7369, -4.5206, -5.0083, -4.7503, -4.7772, -5.0502, -2.7199, -3.0124, -3.7682, -3.9045, -3.9522, -4.0961, -4.113, -4.1484, -4.3785, -4.587, -4.5984, -4.6752, -4.677, -4.7732, -4.7736, -4.8849, -5.1006, -5.1017, -5.1019, -5.2161, -5.2547, -5.2547, -5.2547, -5.2549, -5.2551, -5.2552, -5.2552, -5.2602, -5.5805, -5.5805, -5.2055, -4.5935, -4.8845, -3.0194, -3.3455, -3.3786, -3.5355, -2.0927, -3.8352, -3.9561, -4.005, -4.0608, -4.0781, -4.1893, -4.3772, -4.716, -4.716, -4.716, -4.7163, -4.7163, -4.7163, -4.8072, -4.9765, -5.0776, -5.0862, -5.2687, -5.4065, -5.449, -5.449, -5.449, -5.449, -5.449, -5.449, -4.9417, -4.9673, -5.4065, -3.8819, -4.0338, -4.1137, -4.1854, -4.2355, -2.5554, -4.322, -4.3837, -4.5051, -4.5791, -4.5791, -4.5791, -4.5791, -4.5791, -4.58, -4.58, -4.58, -4.58, -4.58, -4.5854, -4.8291, -4.8292, -4.8292, -4.8389, -4.8532, -5.1179, -5.118, -5.0007, -5.1233, -5.1295, -3.9373, -2.812, -3.3719, -3.5563, -3.6729, -3.6775, -4.3042, -4.5694, -4.5694, -4.5694, -4.5697, -4.5697, -4.5697, -4.5697, -4.5697, -4.5697, -4.5697, -4.5697, -4.5697, -4.5697, -4.6953, -4.7005, -4.8215, -4.9308, -4.9378, -4.2502, -5.2599, -5.3023, -5.3023, -5.3023, -5.3023, -4.6968, -4.6836, -4.1656, -5.3023, -3.9382, -3.9851, -4.0569, -4.178, -4.186, -4.1833, -4.2033, -4.4006, -4.4007, -4.5808, -4.5963, -4.5963, -4.5963, -4.5963, -4.5963, -4.5963, -4.5963, -4.5963, -4.5963, -4.5963, -4.5963, -4.5963, -4.5963, -4.5966, -4.5966, -4.5966, -4.5966, -4.5967, -4.5967, -4.6014, -4.109, -4.3316, -4.4059], \"loglift\": [30.0, 29.0, 28.0, 27.0, 26.0, 25.0, 24.0, 23.0, 22.0, 21.0, 20.0, 19.0, 18.0, 17.0, 16.0, 15.0, 14.0, 13.0, 12.0, 11.0, 10.0, 9.0, 8.0, 7.0, 6.0, 5.0, 4.0, 3.0, 2.0, 1.0, 1.2125, 1.1266, 1.1142, 1.1138, 1.0688, 1.0688, 1.0686, 1.0686, 1.0679, 1.0661, 1.0661, 1.055, 1.0549, 1.0546, 1.0277, 1.0237, 1.0021, 1.0021, 1.0021, 1.0009, 0.9809, 0.9757, 0.9753, 0.9752, 0.9752, 0.9752, 0.975, 0.975, 0.975, 0.975, 0.9402, 0.8738, 0.8505, 0.7317, -0.3731, -1.2162, 1.5341, 1.5241, 1.4769, 1.4647, 1.4592, 1.444, 1.4423, 1.4377, 1.4057, 1.3734, 1.3634, 1.3562, 1.3553, 1.3384, 1.3381, 1.3142, 1.2599, 1.2589, 1.2587, 1.2256, 1.2192, 1.2192, 1.2192, 1.2191, 1.2189, 1.2188, 1.2188, 1.2147, 1.1119, 1.1119, 1.0564, 0.7621, 0.5605, 1.7889, 1.7668, 1.7632, 1.75, 1.7413, 1.7182, 1.7006, 1.6952, 1.6885, 1.6666, 1.6632, 1.63, 1.5607, 1.5607, 1.5607, 1.5604, 1.5604, 1.5604, 1.5372, 1.4835, 1.4573, 1.4495, 1.3816, 1.3388, 1.3216, 1.3216, 1.3216, 1.3216, 1.3216, 1.3216, 1.3013, 1.2199, 1.1323, 1.9312, 1.905, 1.8843, 1.8717, 1.8645, 1.8488, 1.846, 1.8313, 1.8009, 1.781, 1.781, 1.781, 1.781, 1.781, 1.78, 1.78, 1.78, 1.78, 1.78, 1.778, 1.705, 1.7049, 1.7049, 1.6936, 1.6767, 1.5999, 1.5999, 1.5963, 1.5938, 1.5865, 1.5077, 2.0589, 2.0132, 1.9922, 1.977, 1.9761, 1.8633, 1.7959, 1.7959, 1.7959, 1.7956, 1.7956, 1.7956, 1.7956, 1.7956, 1.7956, 1.7956, 1.7956, 1.7956, 1.7955, 1.7591, 1.7536, 1.717, 1.681, 1.6727, 1.5916, 1.5504, 1.5316, 1.5316, 1.5316, 1.5316, 1.479, 1.4146, 1.19, 1.0533, 2.0238, 2.014, 1.9999, 1.9731, 1.9702, 1.9697, 1.948, 1.9172, 1.9171, 1.8646, 1.8599, 1.8599, 1.8599, 1.8599, 1.8599, 1.8599, 1.8599, 1.8599, 1.8599, 1.8599, 1.8599, 1.8599, 1.8599, 1.8595, 1.8595, 1.8595, 1.8595, 1.8594, 1.8594, 1.8583, 1.8328, 1.407, 1.0761]}, \"token.table\": {\"Topic\": [2, 5, 6, 5, 2, 1, 6, 2, 6, 2, 2, 5, 1, 2, 4, 3, 2, 2, 1, 6, 5, 5, 2, 4, 4, 5, 1, 2, 4, 4, 5, 4, 4, 1, 1, 2, 2, 2, 5, 6, 4, 4, 1, 1, 6, 4, 4, 4, 3, 4, 1, 1, 1, 6, 5, 3, 2, 1, 6, 2, 6, 1, 4, 6, 6, 3, 1, 3, 1, 1, 3, 5, 3, 5, 5, 5, 1, 1, 5, 2, 1, 2, 6, 3, 6, 3, 1, 2, 1, 5, 6, 1, 5, 6, 5, 1, 3, 5, 2, 2, 3, 3, 5, 5, 1, 2, 3, 1, 2, 5, 2, 1, 2, 6, 4, 2, 6, 1, 3, 1, 5, 5, 3, 2, 4, 4, 1, 2, 5, 4, 4, 4, 1, 6, 5, 4, 6, 4, 6, 5, 5, 6, 3, 3, 4, 5, 4, 1, 2, 1, 6, 6, 6, 3, 5, 4, 1, 2, 1, 6, 3, 2, 1, 4, 5, 3, 1, 1, 6, 4, 1, 3, 3, 6, 6, 5, 1, 4, 3, 3, 2, 3, 6, 6, 1, 4, 6, 2, 2, 2, 3, 6, 1, 5, 3, 1, 1, 3, 6, 3, 4, 5, 2, 3, 3, 4, 2, 4, 2, 5, 3, 4, 3], \"Freq\": [0.8654861591613003, 0.5157944381285633, 0.5649026998494525, 0.5157944381285633, 0.9940339035336108, 0.6963753938471086, 0.715279204038762, 0.7153925110986065, 0.5648473329069138, 0.575012432074163, 0.46515909359118407, 0.5158160923202552, 0.8610383942964377, 0.5567472454204103, 0.6081440788117256, 0.9441676629856275, 0.9466323763449691, 0.9368222610810731, 0.5512799044349233, 0.5512799044349233, 0.8241651169882983, 0.8241651169882983, 0.9935431033299807, 0.7333249907761892, 0.5131331095417841, 0.659164907676271, 0.7814545238899703, 0.19536363097249257, 0.19536363097249257, 0.7911609769668322, 0.8241651169882983, 0.5131226426905908, 0.6734583381580572, 0.9780732266955878, 0.9780517848242272, 0.5134089870967757, 0.5750361978152528, 0.42673909305715507, 0.42673909305715507, 0.5648676403666528, 0.8876223679064994, 0.6503226814008521, 0.9400799357474586, 0.6397350055949957, 0.2132450018649986, 0.8469282901412125, 0.9721562830158181, 0.7145087385797746, 0.9104643809278932, 0.5130516776833505, 0.9400799357474586, 0.9400673240789684, 0.9400799357474586, 0.4918817068561526, 0.756716695607174, 0.9441676629856275, 0.8737066768280651, 0.9780640855981887, 0.5649136342422686, 0.5749943200218136, 0.5668684508988602, 0.9237959881999611, 0.5131226426905908, 0.7577681450044274, 0.5649026998494525, 0.7956931889911937, 0.9400578452605834, 0.6116140452965166, 0.9568037035216996, 0.08207192079602302, 0.9027911287562532, 0.8241651169882983, 0.9441676629856275, 0.5157944381285633, 0.9677953255874887, 0.5157944381285633, 0.8610383942964377, 0.978064375749475, 0.8048707791148257, 0.5133553990764025, 0.9400399774224637, 0.5750468766768554, 0.8327998098334604, 0.9441989967474359, 0.5649060800527934, 0.7735903885126838, 0.6216589083365108, 0.3108294541682554, 0.39489396176873254, 0.39489396176873254, 0.5649060800527934, 0.5108436246760653, 0.5108436246760653, 0.5648676403666528, 0.8465159504950537, 0.7823849403913261, 0.7735919363707773, 0.5638654722050046, 0.5750468766768554, 0.9039832768765608, 0.6135150580542273, 0.9442033603843156, 0.9258510879913264, 0.5157756171935716, 0.6963940540859697, 0.5749929923879376, 0.7542759260900272, 0.18793278827297455, 0.3758655765459491, 0.3758655765459491, 0.8005225198097845, 0.9172560436925828, 0.7153924830904902, 0.5588269437309933, 0.6096444232175335, 0.6891210170448953, 0.836954033135998, 0.9400799357474586, 0.7735919363707773, 0.978672663721277, 0.9115656281277754, 0.5157944381285633, 0.7735956489831215, 0.7387994423597076, 0.8908891235453784, 0.5130516776833505, 0.9400673240789684, 0.9525170386156221, 0.759476711011793, 0.7579993820663828, 0.6106670291943821, 0.5130516776833505, 0.33773010202491244, 0.6754602040498249, 0.5158160923202552, 0.5131331095417841, 0.5649026998494525, 0.5148686452586319, 0.49189522374096945, 0.5157944381285633, 0.5157944381285633, 0.5649060800527934, 0.6111657130340761, 0.7210510709664013, 0.5130516776833505, 0.5157945048842193, 0.7338653469483593, 0.9400673240789684, 0.8412956618480912, 0.7521253447426912, 0.6892458483715406, 0.5649136342422686, 0.5649136342422686, 0.5051127937118334, 0.5158160923202552, 0.5130516776833505, 0.8610383942964377, 0.7394104076811778, 0.9786692411357618, 0.8342933791469258, 0.7618600226905553, 0.8005820778043223, 0.8644227581063383, 0.7324961913128475, 0.6599673220421111, 0.8760605544106568, 0.6963815700484951, 0.7505987554651121, 0.5648473329069138, 0.6106625346800898, 0.4564302982969805, 0.4564302982969805, 0.8357428331443708, 0.5649060800527934, 0.5648676403666528, 0.6133358615158018, 0.7775291222038929, 0.2591763740679643, 0.7735919363707773, 0.926594283504301, 0.5755626002194715, 0.6858452064532218, 0.5649060800527934, 0.8326510699886661, 0.21771342077880015, 0.7982825428556006, 0.5649136342422686, 0.5133948527863864, 0.5749911120905437, 0.4316642600700285, 0.4316642600700285, 0.5649136342422686, 0.3055887280418315, 0.611177456083663, 0.7735932570644164, 0.9780531063740581, 0.7940895702252811, 0.5670449047661282, 0.5648676403666528, 0.9160950249255801, 0.6106625346800898, 0.5637186601398239, 0.6881352795279342, 0.9785024407973185, 0.8319373468873181, 0.7338720634729006, 0.41100606873139617, 0.6165091030970943, 0.9178969166932983, 0.5157945048842193, 0.9442033603843156, 0.5131331095417841, 0.8839923610883738], \"Term\": [\"absolutely\", \"acce\", \"accomplish\", \"ad\", \"amp\", \"anti\", \"article\", \"astounding\", \"barron\", \"basket\", \"bastard\", \"berkeley\", \"bernie\", \"big\", \"bitch\", \"bot\", \"brake\", \"btfo\", \"call\", \"call\", \"cbsistatic\", \"cbsnew\", \"centipede\", \"charge\", \"clap\", \"close\", \"comment\", \"comment\", \"comment\", \"confirm\", \"costume\", \"counterpunch\", \"cuck\", \"dailycaller\", \"day\", \"death\", \"debate\", \"default\", \"default\", \"disclose\", \"donate\", \"drumpf\", \"dump\", \"election\", \"election\", \"email\", \"emailid\", \"emperor\", \"energy\", \"environment\", \"eternally\", \"evil\", \"family\", \"federal\", \"file\", \"frllow\", \"full\", \"fyi\", \"gender\", \"go\", \"good\", \"guy\", \"hack\", \"happen\", \"hearing\", \"high\", \"history\", \"hope\", \"http\", \"https\", \"https\", \"hub\", \"human\", \"ichef\", \"ifififif\", \"image\", \"inauguration\", \"infowar\", \"insider\", \"isis\", \"jail\", \"join\", \"jpg\", \"jqjlmfqua\", \"jumpsuit\", \"kfat\", \"kill\", \"kill\", \"kkk\", \"kkk\", \"ku\", \"large\", \"large\", \"law\", \"link\", \"live\", \"locale\", \"lock\", \"long\", \"love\", \"low\", \"lyluixwnrc\", \"maga\", \"magaimg\", \"magic\", \"man\", \"match\", \"medium\", \"medium\", \"medium\", \"member\", \"meme\", \"mercyyyyy\", \"mess\", \"message\", \"minute\", \"mod\", \"month\", \"movement\", \"national\", \"net\", \"newswithview\", \"office\", \"officially\", \"org\", \"park\", \"party\", \"people\", \"png\", \"podesta\", \"point\", \"policy\", \"politic\", \"politic\", \"poor\", \"porkchop\", \"postal\", \"presidential\", \"prison\", \"production\", \"profile_image\", \"profit\", \"project\", \"prove\", \"quarter\", \"qwcq\", \"race\", \"racist\", \"rapist\", \"reddit\", \"reform\", \"rhty\", \"rullleeeeee\", \"sad\", \"sadddddd\", \"salary\", \"sander\", \"search\", \"service\", \"shame\", \"share\", \"shill\", \"shoot\", \"sign\", \"site\", \"sli\", \"socialist\", \"source\", \"ssf\", \"stand\", \"state\", \"state\", \"status\", \"step\", \"stock\", \"story\", \"thehill\", \"thehill\", \"thunderclap\", \"time\", \"top\", \"topic\", \"tq\", \"train\", \"trump\", \"trump\", \"truth\", \"turn\", \"tw\", \"twitter\", \"twitter\", \"unite\", \"upload\", \"upload\", \"uzlodhiavca\", \"ve\", \"victory\", \"video\", \"violate\", \"vote\", \"voter\", \"voting\", \"wall\", \"watch\", \"week\", \"wew\", \"wikileak\", \"wikileak\", \"win\", \"wordpress\", \"worth\", \"yeeeaaaahhhh\", \"youtube\"]}, \"R\": 30, \"lambda.step\": 0.01, \"plot.opts\": {\"xlab\": \"PC1\", \"ylab\": \"PC2\"}, \"topic.order\": [3, 5, 6, 4, 1, 2]};\n",
       "\n",
       "function LDAvis_load_lib(url, callback){\n",
       "  var s = document.createElement('script');\n",
       "  s.src = url;\n",
       "  s.async = true;\n",
       "  s.onreadystatechange = s.onload = callback;\n",
       "  s.onerror = function(){console.warn(\"failed to load library \" + url);};\n",
       "  document.getElementsByTagName(\"head\")[0].appendChild(s);\n",
       "}\n",
       "\n",
       "if(typeof(LDAvis) !== \"undefined\"){\n",
       "   // already loaded: just create the visualization\n",
       "   !function(LDAvis){\n",
       "       new LDAvis(\"#\" + \"ldavis_el224428469136447419049488973701\", ldavis_el224428469136447419049488973701_data);\n",
       "   }(LDAvis);\n",
       "}else if(typeof define === \"function\" && define.amd){\n",
       "   // require.js is available: use it to load d3/LDAvis\n",
       "   require.config({paths: {d3: \"https://d3js.org/d3.v5\"}});\n",
       "   require([\"d3\"], function(d3){\n",
       "      window.d3 = d3;\n",
       "      LDAvis_load_lib(\"https://cdn.jsdelivr.net/gh/bmabey/pyLDAvis@3.3.1/pyLDAvis/js/ldavis.v3.0.0.js\", function(){\n",
       "        new LDAvis(\"#\" + \"ldavis_el224428469136447419049488973701\", ldavis_el224428469136447419049488973701_data);\n",
       "      });\n",
       "    });\n",
       "}else{\n",
       "    // require.js not available: dynamically load d3 & LDAvis\n",
       "    LDAvis_load_lib(\"https://d3js.org/d3.v5.js\", function(){\n",
       "         LDAvis_load_lib(\"https://cdn.jsdelivr.net/gh/bmabey/pyLDAvis@3.3.1/pyLDAvis/js/ldavis.v3.0.0.js\", function(){\n",
       "                 new LDAvis(\"#\" + \"ldavis_el224428469136447419049488973701\", ldavis_el224428469136447419049488973701_data);\n",
       "            })\n",
       "         });\n",
       "}\n",
       "</script>"
      ],
      "text/plain": [
       "PreparedData(topic_coordinates=              x         y  topics  cluster       Freq\n",
       "topic                                                \n",
       "2      0.001804 -0.154094       1        1  28.586397\n",
       "4      0.098986  0.145355       2        1  20.856004\n",
       "5     -0.199017  0.063078       3        1  15.752435\n",
       "3      0.032221 -0.026065       4        1  12.163971\n",
       "0      0.040830 -0.000302       5        1  11.953103\n",
       "1      0.025177 -0.027973       6        1  10.688090, topic_info=         Term       Freq      Total Category  logprob  loglift\n",
       "1       https  24.000000  24.000000  Default  30.0000  30.0000\n",
       "189      btfo  16.000000  16.000000  Default  29.0000  29.0000\n",
       "11      trump  13.000000  13.000000  Default  28.0000  28.0000\n",
       "71       maga   8.000000   8.000000  Default  27.0000  27.0000\n",
       "232       amp  12.000000  12.000000  Default  26.0000  26.0000\n",
       "..        ...        ...        ...      ...      ...      ...\n",
       "636       ssf   1.214828   1.770390   Topic6  -4.5967   1.8594\n",
       "148      good   1.209120   1.764078   Topic6  -4.6014   1.8583\n",
       "22    politic   1.978418   2.960944   Topic6  -4.1090   1.8328\n",
       "391      call   1.583496   3.627921   Topic6  -4.3316   1.4070\n",
       "20   election   1.470232   4.689442   Topic6  -4.4059   1.0761\n",
       "\n",
       "[230 rows x 6 columns], token_table=      Topic      Freq          Term\n",
       "term                               \n",
       "203       2  0.865486    absolutely\n",
       "606       5  0.515794          acce\n",
       "624       6  0.564903    accomplish\n",
       "607       5  0.515794            ad\n",
       "232       2  0.994034           amp\n",
       "...     ...       ...           ...\n",
       "231       2  0.917897           win\n",
       "614       5  0.515795     wordpress\n",
       "634       3  0.944203         worth\n",
       "623       4  0.513133  yeeeaaaahhhh\n",
       "5         3  0.883992       youtube\n",
       "\n",
       "[213 rows x 3 columns], R=30, lambda_step=0.01, plot_opts={'xlab': 'PC1', 'ylab': 'PC2'}, topic_order=[3, 5, 6, 4, 1, 2])"
      ]
     },
     "execution_count": 101,
     "metadata": {},
     "output_type": "execute_result"
    }
   ],
   "source": [
    "import pyLDAvis.gensim_models\n",
    "import pickle \n",
    "import pyLDAvis\n",
    "# Visualize the topics\n",
    "pyLDAvis.enable_notebook()\n",
    "LDAvis_prepared = pyLDAvis.gensim_models.prepare(lda_model, corpus, id2word)\n",
    "LDAvis_prepared"
   ]
  },
  {
   "cell_type": "code",
   "execution_count": 102,
   "metadata": {},
   "outputs": [
    {
     "name": "stdout",
     "output_type": "stream",
     "text": [
      "Defaulting to user installation because normal site-packages is not writeable\n",
      "Requirement already satisfied: wordcloud in /storage/home/hcocice1/jpark3141/.local/lib/python3.9/site-packages (1.8.2.2)\n",
      "Requirement already satisfied: pillow in /storage/pace-apps/manual/packages/pytorch/1.11.0/lib/python3.9/site-packages (from wordcloud) (9.0.1)\n",
      "Requirement already satisfied: numpy>=1.6.1 in /storage/pace-apps/manual/packages/pytorch/1.11.0/lib/python3.9/site-packages (from wordcloud) (1.21.5)\n",
      "Requirement already satisfied: matplotlib in /storage/home/hcocice1/jpark3141/.local/lib/python3.9/site-packages (from wordcloud) (3.6.2)\n",
      "Requirement already satisfied: cycler>=0.10 in /storage/home/hcocice1/jpark3141/.local/lib/python3.9/site-packages (from matplotlib->wordcloud) (0.11.0)\n",
      "Requirement already satisfied: contourpy>=1.0.1 in /storage/home/hcocice1/jpark3141/.local/lib/python3.9/site-packages (from matplotlib->wordcloud) (1.0.6)\n",
      "Requirement already satisfied: python-dateutil>=2.7 in /storage/pace-apps/manual/packages/pytorch/1.11.0/lib/python3.9/site-packages (from matplotlib->wordcloud) (2.8.2)\n",
      "Requirement already satisfied: kiwisolver>=1.0.1 in /storage/home/hcocice1/jpark3141/.local/lib/python3.9/site-packages (from matplotlib->wordcloud) (1.4.4)\n",
      "Requirement already satisfied: fonttools>=4.22.0 in /storage/home/hcocice1/jpark3141/.local/lib/python3.9/site-packages (from matplotlib->wordcloud) (4.38.0)\n",
      "Requirement already satisfied: pyparsing>=2.2.1 in /storage/pace-apps/manual/packages/pytorch/1.11.0/lib/python3.9/site-packages (from matplotlib->wordcloud) (3.0.4)\n",
      "Requirement already satisfied: packaging>=20.0 in /storage/pace-apps/manual/packages/pytorch/1.11.0/lib/python3.9/site-packages (from matplotlib->wordcloud) (21.3)\n",
      "Requirement already satisfied: six>=1.5 in /storage/pace-apps/manual/packages/pytorch/1.11.0/lib/python3.9/site-packages (from python-dateutil>=2.7->matplotlib->wordcloud) (1.16.0)\n"
     ]
    }
   ],
   "source": [
    "!pip install wordcloud"
   ]
  },
  {
   "cell_type": "code",
   "execution_count": 103,
   "metadata": {},
   "outputs": [],
   "source": [
    "#visualization libraries \n",
    "from matplotlib import pyplot as plt\n",
    "from wordcloud import WordCloud, STOPWORDS\n",
    "import matplotlib.colors as mcolors"
   ]
  },
  {
   "cell_type": "code",
   "execution_count": 104,
   "metadata": {},
   "outputs": [],
   "source": [
    "#Creating Word Cloud\n",
    "cols = [color for name, color in mcolors.TABLEAU_COLORS.items()]  # more colors: 'mcolors.XKCD_COLORS'\n",
    "cloud = WordCloud(stopwords=stop_words,\n",
    "                  background_color='white',\n",
    "                  width=2500,\n",
    "                  height=1800,\n",
    "                  max_words=10,\n",
    "                  colormap='tab10',\n",
    "                  color_func=lambda *args, **kwargs: cols[i],\n",
    "                  prefer_horizontal=1.0)"
   ]
  },
  {
   "cell_type": "code",
   "execution_count": 105,
   "metadata": {},
   "outputs": [],
   "source": [
    "#preparation for wordcloud\n",
    "topics = lda_model.show_topics(formatted=False)\n",
    "topic_words = dict(topics)"
   ]
  },
  {
   "cell_type": "code",
   "execution_count": 106,
   "metadata": {},
   "outputs": [
    {
     "data": {
      "image/png": "[encoded data removed]",
      "text/plain": [
       "<Figure size 1080x720 with 6 Axes>"
      ]
     },
     "metadata": {
      "needs_background": "light"
     },
     "output_type": "display_data"
    }
   ],
   "source": [
    "fig, axes = plt.subplots(2,3 , figsize=(15,10), sharex=True, sharey=True)\n",
    "#fig.delaxes(ax[1,1])\n",
    "\n",
    "for i, ax in enumerate(axes.flatten()):\n",
    "    fig.add_subplot(ax)\n",
    "    topic_words = dict(topics[i][1])\n",
    "    cloud.generate_from_frequencies(topic_words, max_font_size=300)\n",
    "    plt.gca().imshow(cloud)\n",
    "    plt.gca().set_title('Topic ' + str(i), fontdict=dict(size=16))\n",
    "    plt.gca().axis('off')"
   ]
  }
 ],
 "metadata": {
  "kernelspec": {
   "display_name": "Python 3 (ipykernel)",
   "language": "python",
   "name": "python3"
  },
  "language_info": {
   "codemirror_mode": {
    "name": "ipython",
    "version": 3
   },
   "file_extension": ".py",
   "mimetype": "text/x-python",
   "name": "python",
   "nbconvert_exporter": "python",
   "pygments_lexer": "ipython3",
   "version": "3.9.12"
  },
  "vscode": {
   "interpreter": {
    "hash": "4909a6f98c8ba87732415580af1fe424aedbcedb4a84f7ee2e27fa7a2ea53689"
   }
  }
 },
 "nbformat": 4,
 "nbformat_minor": 2
}
